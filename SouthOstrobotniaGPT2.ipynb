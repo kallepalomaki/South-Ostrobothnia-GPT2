{
  "nbformat": 4,
  "nbformat_minor": 0,
  "metadata": {
    "colab": {
      "provenance": [],
      "include_colab_link": true
    },
    "kernelspec": {
      "name": "python3",
      "display_name": "Python 3"
    },
    "accelerator": "GPU"
  },
  "cells": [
    {
      "cell_type": "markdown",
      "metadata": {
        "id": "view-in-github",
        "colab_type": "text"
      },
      "source": [
        "<a href=\"https://colab.research.google.com/github/kallepalomaki/South-Ostrobotnia-GPT2/blob/main/SouthOstrobotniaGPT2.ipynb\" target=\"_parent\"><img src=\"https://colab.research.google.com/assets/colab-badge.svg\" alt=\"Open In Colab\"/></a>"
      ]
    },
    {
      "cell_type": "markdown",
      "metadata": {
        "id": "EKOTlwcmxmej"
      },
      "source": [
        "**bold text**# GPT-2 Fine-Tuning experiment to Adapt Finnish GPT2 to South Ostrobotnia Accent\n",
        "\n",
        "\n"
      ]
    },
    {
      "cell_type": "markdown",
      "metadata": {
        "id": "NKGBoVwuhM4H"
      },
      "source": [
        "This is an non-serious experiment to fine tune GPT2 in Finnish language to generate South Ostrobotnia Accent.\n",
        "\n",
        "The script is based on the following GPT-2 Fine-Tuning tutorial:\n",
        "https://colab.research.google.com/drive/13dZVYEOMhXhkXWfvSMVM1TTtUDrT6Aeh#scrollTo=0NmMdkZO8R6q\n",
        "\n",
        "Author of the script mentions other tutorials as his sources:\n",
        " \"I've liberally taken bits from [Chris McCormick's BERT fine-tuning tutorial](https://mccormickml.com/2019/07/22/BERT-fine-tuning/), [Ian Porter's GPT2 tutorial](https://snappishproductions.com/blog/2020/03/01/chapter-9.5-text-generation-with-gpt-2-and-only-pytorch.html.html) and the [Hugging Face Language model fine-tuning script](https://huggingface.co/transformers/v2.0.0/examples.html#language-model-fine-tuning) so full credit to them. Chris' code has pretty much provided the basis for this script - you should definitely check out his [blog](https://mccormickml.com/tutorials/).\"\n",
        "\n",
        "At present I've just borrowed most of original parameters without much re-tuning.\n",
        "\n",
        "GPT2 model I'm using is this: \n",
        "https://huggingface.co/Finnish-NLP/gpt2-finnish?text=Teksti%C3%A4+tuottava+teko%C3%A4ly+on\n",
        "\n",
        "version Finnish-NLP/gpt2-finnish by Aapo Tanskanen and Rasmus Toivanen\n"
      ]
    },
    {
      "cell_type": "markdown",
      "metadata": {
        "id": "Xf3Qw77SZGbS"
      },
      "source": [
        "# Setup"
      ]
    },
    {
      "cell_type": "code",
      "metadata": {
        "id": "0NmMdkZO8R6q",
        "colab": {
          "base_uri": "https://localhost:8080/"
        },
        "outputId": "5f35b666-bd3f-4dfe-af2c-14551b53ded3"
      },
      "source": [
        "!pip install transformers"
      ],
      "execution_count": 28,
      "outputs": [
        {
          "output_type": "stream",
          "name": "stdout",
          "text": [
            "Looking in indexes: https://pypi.org/simple, https://us-python.pkg.dev/colab-wheels/public/simple/\n",
            "Requirement already satisfied: transformers in /usr/local/lib/python3.7/dist-packages (4.24.0)\n",
            "Requirement already satisfied: filelock in /usr/local/lib/python3.7/dist-packages (from transformers) (3.8.0)\n",
            "Requirement already satisfied: huggingface-hub<1.0,>=0.10.0 in /usr/local/lib/python3.7/dist-packages (from transformers) (0.11.0)\n",
            "Requirement already satisfied: tokenizers!=0.11.3,<0.14,>=0.11.1 in /usr/local/lib/python3.7/dist-packages (from transformers) (0.13.2)\n",
            "Requirement already satisfied: regex!=2019.12.17 in /usr/local/lib/python3.7/dist-packages (from transformers) (2022.6.2)\n",
            "Requirement already satisfied: importlib-metadata in /usr/local/lib/python3.7/dist-packages (from transformers) (4.13.0)\n",
            "Requirement already satisfied: packaging>=20.0 in /usr/local/lib/python3.7/dist-packages (from transformers) (21.3)\n",
            "Requirement already satisfied: pyyaml>=5.1 in /usr/local/lib/python3.7/dist-packages (from transformers) (6.0)\n",
            "Requirement already satisfied: requests in /usr/local/lib/python3.7/dist-packages (from transformers) (2.23.0)\n",
            "Requirement already satisfied: tqdm>=4.27 in /usr/local/lib/python3.7/dist-packages (from transformers) (4.64.1)\n",
            "Requirement already satisfied: numpy>=1.17 in /usr/local/lib/python3.7/dist-packages (from transformers) (1.21.6)\n",
            "Requirement already satisfied: typing-extensions>=3.7.4.3 in /usr/local/lib/python3.7/dist-packages (from huggingface-hub<1.0,>=0.10.0->transformers) (4.1.1)\n",
            "Requirement already satisfied: pyparsing!=3.0.5,>=2.0.2 in /usr/local/lib/python3.7/dist-packages (from packaging>=20.0->transformers) (3.0.9)\n",
            "Requirement already satisfied: zipp>=0.5 in /usr/local/lib/python3.7/dist-packages (from importlib-metadata->transformers) (3.10.0)\n",
            "Requirement already satisfied: urllib3!=1.25.0,!=1.25.1,<1.26,>=1.21.1 in /usr/local/lib/python3.7/dist-packages (from requests->transformers) (1.24.3)\n",
            "Requirement already satisfied: certifi>=2017.4.17 in /usr/local/lib/python3.7/dist-packages (from requests->transformers) (2022.9.24)\n",
            "Requirement already satisfied: chardet<4,>=3.0.2 in /usr/local/lib/python3.7/dist-packages (from requests->transformers) (3.0.4)\n",
            "Requirement already satisfied: idna<3,>=2.5 in /usr/local/lib/python3.7/dist-packages (from requests->transformers) (2.10)\n"
          ]
        }
      ]
    },
    {
      "cell_type": "code",
      "metadata": {
        "id": "JCCeyhuDHdOu",
        "colab": {
          "base_uri": "https://localhost:8080/"
        },
        "outputId": "fae8575d-eac6-4a74-b2e7-86fe73dd2a2b"
      },
      "source": [
        "import os\n",
        "import time\n",
        "import datetime\n",
        "from google.colab import drive\n",
        "\n",
        "import pandas as pd\n",
        "import seaborn as sns\n",
        "import numpy as np\n",
        "import random\n",
        "\n",
        "import matplotlib.pyplot as plt\n",
        "%matplotlib inline\n",
        "\n",
        "import torch\n",
        "from torch.utils.data import Dataset, DataLoader, random_split, RandomSampler, SequentialSampler\n",
        "torch.manual_seed(42)\n",
        "\n",
        "from transformers import GPT2LMHeadModel,  GPT2Tokenizer, GPT2Config, GPT2LMHeadModel\n",
        "from transformers import AdamW, get_linear_schedule_with_warmup\n",
        "\n",
        "import nltk\n",
        "nltk.download('punkt')"
      ],
      "execution_count": 29,
      "outputs": [
        {
          "output_type": "stream",
          "name": "stderr",
          "text": [
            "[nltk_data] Downloading package punkt to /root/nltk_data...\n",
            "[nltk_data]   Package punkt is already up-to-date!\n"
          ]
        },
        {
          "output_type": "execute_result",
          "data": {
            "text/plain": [
              "True"
            ]
          },
          "metadata": {},
          "execution_count": 29
        }
      ]
    },
    {
      "cell_type": "code",
      "metadata": {
        "id": "satxtOn9CzgR",
        "colab": {
          "base_uri": "https://localhost:8080/"
        },
        "outputId": "e49a8638-c280-4f05-8bb3-4aa12b986b3a"
      },
      "source": [
        "!nvidia-smi"
      ],
      "execution_count": 30,
      "outputs": [
        {
          "output_type": "stream",
          "name": "stdout",
          "text": [
            "Fri Nov 18 18:33:59 2022       \n",
            "+-----------------------------------------------------------------------------+\n",
            "| NVIDIA-SMI 460.32.03    Driver Version: 460.32.03    CUDA Version: 11.2     |\n",
            "|-------------------------------+----------------------+----------------------+\n",
            "| GPU  Name        Persistence-M| Bus-Id        Disp.A | Volatile Uncorr. ECC |\n",
            "| Fan  Temp  Perf  Pwr:Usage/Cap|         Memory-Usage | GPU-Util  Compute M. |\n",
            "|                               |                      |               MIG M. |\n",
            "|===============================+======================+======================|\n",
            "|   0  Tesla T4            Off  | 00000000:00:04.0 Off |                    0 |\n",
            "| N/A   52C    P0    29W /  70W |   8176MiB / 15109MiB |      4%      Default |\n",
            "|                               |                      |                  N/A |\n",
            "+-------------------------------+----------------------+----------------------+\n",
            "                                                                               \n",
            "+-----------------------------------------------------------------------------+\n",
            "| Processes:                                                                  |\n",
            "|  GPU   GI   CI        PID   Type   Process name                  GPU Memory |\n",
            "|        ID   ID                                                   Usage      |\n",
            "|=============================================================================|\n",
            "+-----------------------------------------------------------------------------+\n"
          ]
        }
      ]
    },
    {
      "cell_type": "markdown",
      "metadata": {
        "id": "ZfdCML6Parvv"
      },
      "source": [
        "# Create Training Set\n",
        "\n",
        "The data used for fine tuning the GPT2 model are blog texts that are crowled from two blog sites. http://pohopekka.blogspot.com/, https://www.blogit.fi/tag/pakina\n",
        "\n",
        "Crawling scripts are proviced separately.\n"
      ]
    },
    {
      "cell_type": "code",
      "metadata": {
        "id": "_EYFrNxr-TYb",
        "colab": {
          "base_uri": "https://localhost:8080/"
        },
        "outputId": "c272e7d9-e2cd-4fdf-e02a-79038919fdaa"
      },
      "source": [
        "# mount my Google Drive directory and access the training data located there\n",
        "gdrive_dir = '/content/gdrive/'\n",
        "data_dir = os.path.join(gdrive_dir, \"'My Drive'\",\"'Colab Notebooks'\")\n",
        "# crawled texts\n",
        "filename = 'ep.txt'\n",
        "drive.mount(gdrive_dir, force_remount=True)\n"
      ],
      "execution_count": 31,
      "outputs": [
        {
          "output_type": "stream",
          "name": "stdout",
          "text": [
            "Mounted at /content/gdrive/\n"
          ]
        }
      ]
    },
    {
      "cell_type": "code",
      "metadata": {
        "id": "G_DWAMe1FopX"
      },
      "source": [
        "# copy the data to the current Colab working directory\n",
        "!cp $data_dir/$filename ."
      ],
      "execution_count": 32,
      "outputs": []
    },
    {
      "cell_type": "code",
      "metadata": {
        "id": "ya3zsH0r-3JK"
      },
      "source": [
        "# load into a data frame\n",
        "\n",
        "all_text=[]\n",
        "it=1\n",
        "line_text=\"\"\n",
        "with open(filename) as f:\n",
        "  for line in f:\n",
        "    line=line.strip()\n",
        "    if it % 8 == 0:\n",
        "      all_text.append(line_text)\n",
        "      line_text=\"\"\n",
        "    if len(line)>5:\n",
        "      line_text+=line + \" \"\n",
        "      line_text=line_text.replace(\" .\", \".\")\n",
        "      it+=1\n",
        "    \n",
        "all_text=pd.Series(all_text)"
      ],
      "execution_count": 33,
      "outputs": []
    },
    {
      "cell_type": "markdown",
      "metadata": {
        "id": "hQ1oK0kXaV5p"
      },
      "source": [
        "Following the original script we'll find out the document length distribution."
      ]
    },
    {
      "cell_type": "code",
      "metadata": {
        "id": "cKsH2sU0OCQA",
        "colab": {
          "base_uri": "https://localhost:8080/",
          "height": 348
        },
        "outputId": "7d8ef453-914c-46ec-8dfd-36fee88ed1d8"
      },
      "source": [
        "doc_lengths = []\n",
        "\n",
        "for text_item in all_text:\n",
        "\n",
        "    # get rough token count distribution\n",
        "    tokens = nltk.word_tokenize(text_item)\n",
        "\n",
        "    doc_lengths.append(len(tokens))\n",
        "\n",
        "doc_lengths = np.array(doc_lengths)\n",
        "\n",
        "sns.distplot(doc_lengths)"
      ],
      "execution_count": 34,
      "outputs": [
        {
          "output_type": "stream",
          "name": "stderr",
          "text": [
            "/usr/local/lib/python3.7/dist-packages/seaborn/distributions.py:2619: FutureWarning: `distplot` is a deprecated function and will be removed in a future version. Please adapt your code to use either `displot` (a figure-level function with similar flexibility) or `histplot` (an axes-level function for histograms).\n",
            "  warnings.warn(msg, FutureWarning)\n"
          ]
        },
        {
          "output_type": "execute_result",
          "data": {
            "text/plain": [
              "<matplotlib.axes._subplots.AxesSubplot at 0x7f60dc7b4390>"
            ]
          },
          "metadata": {},
          "execution_count": 34
        },
        {
          "output_type": "display_data",
          "data": {
            "text/plain": [
              "<Figure size 432x288 with 1 Axes>"
            ],
            "image/png": "[encoded data removed]"
          },
          "metadata": {
            "needs_background": "light"
          }
        }
      ]
    },
    {
      "cell_type": "markdown",
      "metadata": {
        "id": "cMml12FJGjPW"
      },
      "source": [
        "# GPT2 Tokenizer"
      ]
    },
    {
      "cell_type": "markdown",
      "metadata": {
        "id": "ANJhbBwdxN-b"
      },
      "source": [
        "\n",
        "Special tokens are specified following orignal scripts.\n",
        "\n",
        "Models are Finnish GPT2 from the following project.\n",
        "https://huggingface.co/Finnish-NLP/gpt2-finnish?text=Teksti%C3%A4+tuottava+teko%C3%A4ly+on\n",
        "\n",
        "Note that the medium and large models were too big for free co-lab version, so I couldn't check them out."
      ]
    },
    {
      "cell_type": "code",
      "metadata": {
        "id": "Z474sSC6oe7A",
        "colab": {
          "base_uri": "https://localhost:8080/"
        },
        "outputId": "0301e443-76a4-4fbe-d640-9c220ff33a23"
      },
      "source": [
        "# Load the GPT tokenizer.\n",
        "model_name='Finnish-NLP/gpt2-finnish'\n",
        "#model_name='Finnish-NLP/gpt2-medium-finnish'\n",
        "#model_name='Finnish-NLP/gpt2-large-finnish'\n",
        "tokenizer = GPT2Tokenizer.from_pretrained(model_name, bos_token='<|startoftext|>', eos_token='<|endoftext|>', pad_token='<|pad|>') #gpt2-medium\n"
      ],
      "execution_count": 35,
      "outputs": [
        {
          "output_type": "stream",
          "name": "stderr",
          "text": [
            "Special tokens have been added in the vocabulary, make sure the associated word embeddings are fine-tuned or trained.\n"
          ]
        }
      ]
    },
    {
      "cell_type": "code",
      "metadata": {
        "id": "sh0XKuDvnryn",
        "colab": {
          "base_uri": "https://localhost:8080/"
        },
        "outputId": "d77926be-985d-4466-fe3d-0a7d47ead1c5"
      },
      "source": [
        "print(\"The max model length is {} for this model, although the actual embedding size for GPT small is 768\".format(tokenizer.model_max_length))\n",
        "print(\"The beginning of sequence token {} token has the id {}\".format(tokenizer.convert_ids_to_tokens(tokenizer.bos_token_id), tokenizer.bos_token_id))\n",
        "print(\"The end of sequence token {} has the id {}\".format(tokenizer.convert_ids_to_tokens(tokenizer.eos_token_id), tokenizer.eos_token_id))\n",
        "print(\"The padding token {} has the id {}\".format(tokenizer.convert_ids_to_tokens(tokenizer.pad_token_id), tokenizer.pad_token_id))"
      ],
      "execution_count": 36,
      "outputs": [
        {
          "output_type": "stream",
          "name": "stdout",
          "text": [
            "The max model length is 1000000000000000019884624838656 for this model, although the actual embedding size for GPT small is 768\n",
            "The beginning of sequence token <|startoftext|> token has the id 50257\n",
            "The end of sequence token <|endoftext|> has the id 50256\n",
            "The padding token <|pad|> has the id 50258\n"
          ]
        }
      ]
    },
    {
      "cell_type": "markdown",
      "metadata": {
        "id": "ex5O1eV-Pfct"
      },
      "source": [
        "# PyTorch Datasets & Dataloaders\n"
      ]
    },
    {
      "cell_type": "markdown",
      "metadata": {
        "id": "3lgZoOYkxZfx"
      },
      "source": [
        "Using batch size 2 as the original script. "
      ]
    },
    {
      "cell_type": "code",
      "metadata": {
        "id": "scqrzmqhV__z"
      },
      "source": [
        "batch_size = 2"
      ],
      "execution_count": 37,
      "outputs": []
    },
    {
      "cell_type": "code",
      "metadata": {
        "id": "U_XJVIetKN-h"
      },
      "source": [
        "class GPT2Dataset(Dataset):\n",
        "\n",
        "  def __init__(self, txt_list, tokenizer, gpt2_type=\"gpt2\", max_length=768):\n",
        "\n",
        "    self.tokenizer = tokenizer\n",
        "    self.input_ids = []\n",
        "    self.attn_masks = []\n",
        "\n",
        "    for txt in txt_list:\n",
        "\n",
        "      encodings_dict = tokenizer('<|startoftext|>'+ txt + '<|endoftext|>', truncation=True, max_length=max_length, padding=\"max_length\")\n",
        "\n",
        "      self.input_ids.append(torch.tensor(encodings_dict['input_ids']))\n",
        "      self.attn_masks.append(torch.tensor(encodings_dict['attention_mask']))\n",
        "    \n",
        "  def __len__(self):\n",
        "    return len(self.input_ids)\n",
        "\n",
        "  def __getitem__(self, idx):\n",
        "    return self.input_ids[idx], self.attn_masks[idx] "
      ],
      "execution_count": 38,
      "outputs": []
    },
    {
      "cell_type": "markdown",
      "metadata": {
        "id": "89Z7aYUgpWrd"
      },
      "source": [
        "Padding settings are directly from the original script. May not be optimal for this use case."
      ]
    },
    {
      "cell_type": "code",
      "metadata": {
        "id": "Xza_O1_rD7yh",
        "colab": {
          "base_uri": "https://localhost:8080/"
        },
        "outputId": "449ffe76-3015-435b-8128-263ee2df4985"
      },
      "source": [
        "dataset = GPT2Dataset(all_text, tokenizer, max_length=768)\n",
        "\n",
        "# Split into training and validation sets\n",
        "train_size = int(0.9 * len(dataset))\n",
        "val_size = len(dataset) - train_size\n",
        "\n",
        "train_dataset, val_dataset = random_split(dataset, [train_size, val_size])\n",
        "\n",
        "print('{:>5,} training samples'.format(train_size))\n",
        "print('{:>5,} validation samples'.format(val_size))"
      ],
      "execution_count": 39,
      "outputs": [
        {
          "output_type": "stream",
          "name": "stdout",
          "text": [
            "  273 training samples\n",
            "   31 validation samples\n"
          ]
        }
      ]
    },
    {
      "cell_type": "code",
      "metadata": {
        "id": "x0WeP5PREUuy"
      },
      "source": [
        "# Create the DataLoaders for our training and validation datasets.\n",
        "# We'll take training samples in random order. \n",
        "train_dataloader = DataLoader(\n",
        "            train_dataset,  # The training samples.\n",
        "            sampler = RandomSampler(train_dataset), # Select batches randomly\n",
        "            batch_size = batch_size # Trains with this batch size.\n",
        "        )\n",
        "\n",
        "# For validation the order doesn't matter, so we'll just read them sequentially.\n",
        "validation_dataloader = DataLoader(\n",
        "            val_dataset, # The validation samples.\n",
        "            sampler = SequentialSampler(val_dataset), # Pull out batches sequentially.\n",
        "            batch_size = batch_size # Evaluate with this batch size.\n",
        "        )"
      ],
      "execution_count": 40,
      "outputs": []
    },
    {
      "cell_type": "markdown",
      "metadata": {
        "id": "D6TKgyUzPIQc"
      },
      "source": [
        "# Finetune GPT2 Language Model"
      ]
    },
    {
      "cell_type": "code",
      "metadata": {
        "id": "gFsCTp_mporB"
      },
      "source": [
        "# I'm not really doing anything with the config buheret\n",
        "configuration = GPT2Config.from_pretrained(model_name, output_hidden_states=False)\n",
        "\n",
        "# instantiate the model\n",
        "model = GPT2LMHeadModel.from_pretrained(model_name, config=configuration)\n",
        "\n",
        "# this step is necessary because I've added some tokens (bos_token, etc) to the embeddings\n",
        "# otherwise the tokenizer and model tensors won't match up\n",
        "model.resize_token_embeddings(len(tokenizer))\n",
        "\n",
        "# Tell pytorch to run this model on the GPU.\n",
        "device = torch.device(\"cuda\")\n",
        "model.cuda()\n",
        "\n",
        "# Set the seed value all over the place to make this reproducible.\n",
        "seed_val = 42\n",
        "\n",
        "random.seed(seed_val)\n",
        "np.random.seed(seed_val)\n",
        "torch.manual_seed(seed_val)\n",
        "torch.cuda.manual_seed_all(seed_val)"
      ],
      "execution_count": 41,
      "outputs": []
    },
    {
      "cell_type": "code",
      "metadata": {
        "id": "pBEVY2PYSTXJ"
      },
      "source": [
        "# some parameters from original script, may not be optimal\n",
        "\n",
        "epochs = 5\n",
        "learning_rate = 5e-4\n",
        "warmup_steps = 1e2\n",
        "epsilon = 1e-8\n",
        "\n",
        "# this produces sample output every 100 steps\n",
        "sample_every = 100"
      ],
      "execution_count": 42,
      "outputs": []
    },
    {
      "cell_type": "code",
      "metadata": {
        "id": "GLs72DuMODJO",
        "colab": {
          "base_uri": "https://localhost:8080/"
        },
        "outputId": "06445be6-0594-48b0-80b8-fea79ca24140"
      },
      "source": [
        "# Note: AdamW is a class from the huggingface library (as opposed to pytorch) \n",
        "optimizer = AdamW(model.parameters(),\n",
        "                  lr = learning_rate,\n",
        "                  eps = epsilon\n",
        "                )"
      ],
      "execution_count": 43,
      "outputs": [
        {
          "output_type": "stream",
          "name": "stderr",
          "text": [
            "/usr/local/lib/python3.7/dist-packages/transformers/optimization.py:310: FutureWarning: This implementation of AdamW is deprecated and will be removed in a future version. Use the PyTorch implementation torch.optim.AdamW instead, or set `no_deprecation_warning=True` to disable this warning\n",
            "  FutureWarning,\n"
          ]
        }
      ]
    },
    {
      "cell_type": "code",
      "metadata": {
        "id": "-p0upAhhRiIx"
      },
      "source": [
        "# Total number of training steps is [number of batches] x [number of epochs]. \n",
        "# (Note that this is not the same as the number of training samples).\n",
        "total_steps = len(train_dataloader) * epochs\n",
        "\n",
        "# Create the learning rate scheduler.\n",
        "# This changes the learning rate as the training loop progresses\n",
        "scheduler = get_linear_schedule_with_warmup(optimizer, \n",
        "                                            num_warmup_steps = warmup_steps, \n",
        "                                            num_training_steps = total_steps)"
      ],
      "execution_count": 44,
      "outputs": []
    },
    {
      "cell_type": "code",
      "metadata": {
        "id": "gpt6tR83keZD"
      },
      "source": [
        "def format_time(elapsed):\n",
        "    return str(datetime.timedelta(seconds=int(round((elapsed)))))"
      ],
      "execution_count": 45,
      "outputs": []
    },
    {
      "cell_type": "code",
      "metadata": {
        "id": "vCPohrZ-CTWu",
        "colab": {
          "base_uri": "https://localhost:8080/"
        },
        "outputId": "6330a5fd-da23-4484-9ad4-4d6801f5aa69"
      },
      "source": [
        "torch.cuda.empty_cache()\n",
        "total_t0 = time.time()\n",
        "\n",
        "training_stats = []\n",
        "\n",
        "model = model.to(device)\n",
        "\n",
        "for epoch_i in range(0, epochs):\n",
        "\n",
        "    # ========================================\n",
        "    #               Training\n",
        "    # ========================================\n",
        "\n",
        "    print(\"\")\n",
        "    print('======== Epoch {:} / {:} ========'.format(epoch_i + 1, epochs))\n",
        "    print('Training...')\n",
        "\n",
        "    t0 = time.time()\n",
        "\n",
        "    total_train_loss = 0\n",
        "\n",
        "    model.train()\n",
        "\n",
        "    for step, batch in enumerate(train_dataloader):\n",
        "\n",
        "        b_input_ids = batch[0].to(device)\n",
        "        b_labels = batch[0].to(device)\n",
        "        b_masks = batch[1].to(device)\n",
        "\n",
        "        model.zero_grad()        \n",
        "\n",
        "        outputs = model(  b_input_ids,\n",
        "                          labels=b_labels, \n",
        "                          attention_mask = b_masks,\n",
        "                          token_type_ids=None\n",
        "                        )\n",
        "\n",
        "        loss = outputs[0]  \n",
        "\n",
        "        batch_loss = loss.item()\n",
        "        total_train_loss += batch_loss\n",
        "\n",
        "        # Get sample every x batches.\n",
        "        if step % sample_every == 0 and not step == 0:\n",
        "\n",
        "            elapsed = format_time(time.time() - t0)\n",
        "            print('  Batch {:>5,}  of  {:>5,}. Loss: {:>5,}.   Elapsed: {:}.'.format(step, len(train_dataloader), batch_loss, elapsed))\n",
        "\n",
        "            model.eval()\n",
        "\n",
        "            sample_outputs = model.generate(\n",
        "                                    bos_token_id=random.randint(1,30000),\n",
        "                                    do_sample=True,   \n",
        "                                    top_k=50, \n",
        "                                    max_length = 200,\n",
        "                                    top_p=0.95, \n",
        "                                    num_return_sequences=1\n",
        "                                )\n",
        "            for i, sample_output in enumerate(sample_outputs):\n",
        "                  print(\"{}: {}\".format(i, tokenizer.decode(sample_output, skip_special_tokens=True)))\n",
        "            \n",
        "            model.train()\n",
        "\n",
        "        loss.backward()\n",
        "\n",
        "        optimizer.step()\n",
        "\n",
        "        scheduler.step()\n",
        "\n",
        "    # Calculate the average loss over all of the batches.\n",
        "    avg_train_loss = total_train_loss / len(train_dataloader)       \n",
        "    \n",
        "    # Measure how long this epoch took.\n",
        "    training_time = format_time(time.time() - t0)\n",
        "\n",
        "    print(\"\")\n",
        "    print(\"  Average training loss: {0:.2f}\".format(avg_train_loss))\n",
        "    print(\"  Training epoch took: {:}\".format(training_time))\n",
        "        \n",
        "    # ========================================\n",
        "    #               Validation\n",
        "    # ========================================\n",
        "\n",
        "    print(\"\")\n",
        "    print(\"Running Validation...\")\n",
        "\n",
        "    t0 = time.time()\n",
        "\n",
        "    model.eval()\n",
        "\n",
        "    total_eval_loss = 0\n",
        "    nb_eval_steps = 0\n",
        "\n",
        "    # Evaluate data for one epoch\n",
        "    for batch in validation_dataloader:\n",
        "        \n",
        "        b_input_ids = batch[0].to(device)\n",
        "        b_labels = batch[0].to(device)\n",
        "        b_masks = batch[1].to(device)\n",
        "        \n",
        "        with torch.no_grad():        \n",
        "\n",
        "            outputs  = model(b_input_ids, \n",
        "#                            token_type_ids=None, \n",
        "                             attention_mask = b_masks,\n",
        "                            labels=b_labels)\n",
        "          \n",
        "            loss = outputs[0]  \n",
        "            \n",
        "        batch_loss = loss.item()\n",
        "        total_eval_loss += batch_loss        \n",
        "\n",
        "    avg_val_loss = total_eval_loss / len(validation_dataloader)\n",
        "    \n",
        "    validation_time = format_time(time.time() - t0)    \n",
        "\n",
        "    print(\"  Validation Loss: {0:.2f}\".format(avg_val_loss))\n",
        "    print(\"  Validation took: {:}\".format(validation_time))\n",
        "\n",
        "    # Record all statistics from this epoch.\n",
        "    training_stats.append(\n",
        "        {\n",
        "            'epoch': epoch_i + 1,\n",
        "            'Training Loss': avg_train_loss,\n",
        "            'Valid. Loss': avg_val_loss,\n",
        "            'Training Time': training_time,\n",
        "            'Validation Time': validation_time\n",
        "        }\n",
        "    )\n",
        "\n",
        "print(\"\")\n",
        "print(\"Training complete!\")\n",
        "print(\"Total training took {:} (h:mm:ss)\".format(format_time(time.time()-total_t0)))"
      ],
      "execution_count": 46,
      "outputs": [
        {
          "output_type": "stream",
          "name": "stdout",
          "text": [
            "\n",
            "======== Epoch 1 / 5 ========\n",
            "Training...\n"
          ]
        },
        {
          "output_type": "stream",
          "name": "stderr",
          "text": [
            "The attention mask and the pad token id were not set. As a consequence, you may observe unexpected behavior. Please pass your input's `attention_mask` to obtain reliable results.\n",
            "Setting `pad_token_id` to `eos_token_id`:50256 for open-end generation.\n"
          ]
        },
        {
          "output_type": "stream",
          "name": "stdout",
          "text": [
            "  Batch   100  of    137. Loss: 2.057128667831421.   Elapsed: 0:00:54.\n",
            "0:  tuottanutMaskinhan oroli jälähän jahan jannammamahan, meiristä tuli kans sitä meirän änsä oli, kuinka meillon, se tuli meille ikkii talahan meiränhän. Siinä, joka kävi siinä aina yhääki. Ei siinä olis voinu kyllä sitä sen ku sanoo, mutta se justihin keris ny se, että ei. Me meimmä, joka oli se, johon \n",
            "\n",
            "  Average training loss: 8.08\n",
            "  Training epoch took: 0:01:19\n",
            "\n",
            "Running Validation...\n"
          ]
        },
        {
          "output_type": "stream",
          "name": "stderr",
          "text": [
            "The attention mask and the pad token id were not set. As a consequence, you may observe unexpected behavior. Please pass your input's `attention_mask` to obtain reliable results.\n",
            "Setting `pad_token_id` to `eos_token_id`:50256 for open-end generation.\n"
          ]
        },
        {
          "output_type": "stream",
          "name": "stdout",
          "text": [
            "  Validation Loss: 1.64\n",
            "  Validation took: 0:00:03\n",
            "\n",
            "======== Epoch 2 / 5 ========\n",
            "Training...\n",
            "  Batch   100  of    137. Loss: 1.1458570957183838.   Elapsed: 0:00:56.\n",
            "0:  laske\n",
            "\n",
            "  Average training loss: 1.52\n",
            "  Training epoch took: 0:01:20\n",
            "\n",
            "Running Validation...\n",
            "  Validation Loss: 1.31\n",
            "  Validation took: 0:00:03\n",
            "\n",
            "======== Epoch 3 / 5 ========\n",
            "Training...\n"
          ]
        },
        {
          "output_type": "stream",
          "name": "stderr",
          "text": [
            "The attention mask and the pad token id were not set. As a consequence, you may observe unexpected behavior. Please pass your input's `attention_mask` to obtain reliable results.\n",
            "Setting `pad_token_id` to `eos_token_id`:50256 for open-end generation.\n"
          ]
        },
        {
          "output_type": "stream",
          "name": "stdout",
          "text": [
            "  Batch   100  of    137. Loss: 0.8930748701095581.   Elapsed: 0:00:57.\n",
            "0:  asiaKun olin koulusta kotia, niin tunsin olevani jo aivan varma siitä, että saan nimeni ja nimeni. Ja niin minä havaattin ja niin minä havaattin. Ja niin me sitte havaattinhin ja havaattinehen. Ja niin me sitte havaattinhin, kuinka isä tiätysti ja tarkasti ja tarkasti otti ja otti meitä sisaruksia ja lähärin ja sanoo, että me ei oltu tehty, kun isä lähti meirän koulun pihalle. Isä otti heti ja pani kaikki pois. Isä haki meille opettajalta, että  kumminki saisimma ne vaatteet pois. �Periaatehian ja   kumminki niin hyvin pääsi. Isä lähti siitä sitte liikkeelle ja lähti alaha, sitte lähäretteli ja sitten lähtimmä äiteen kans häntä ja notta tämä tuli kotia. Isä sai kumminki housut pois ja huipunhatulle. Nytkö jo palio voihihin. � yn. ja, notta isä haki meille opettajalta, että uta\n",
            "\n",
            "  Average training loss: 1.19\n",
            "  Training epoch took: 0:01:22\n",
            "\n",
            "Running Validation...\n"
          ]
        },
        {
          "output_type": "stream",
          "name": "stderr",
          "text": [
            "The attention mask and the pad token id were not set. As a consequence, you may observe unexpected behavior. Please pass your input's `attention_mask` to obtain reliable results.\n",
            "Setting `pad_token_id` to `eos_token_id`:50256 for open-end generation.\n"
          ]
        },
        {
          "output_type": "stream",
          "name": "stdout",
          "text": [
            "  Validation Loss: 1.23\n",
            "  Validation took: 0:00:03\n",
            "\n",
            "======== Epoch 4 / 5 ========\n",
            "Training...\n",
            "  Batch   100  of    137. Loss: 1.0499677658081055.   Elapsed: 0:00:57.\n",
            "0:  säästöjä\n",
            "\n",
            "  Average training loss: 1.01\n",
            "  Training epoch took: 0:01:22\n",
            "\n",
            "Running Validation...\n"
          ]
        },
        {
          "output_type": "stream",
          "name": "stderr",
          "text": [
            "The attention mask and the pad token id were not set. As a consequence, you may observe unexpected behavior. Please pass your input's `attention_mask` to obtain reliable results.\n",
            "Setting `pad_token_id` to `eos_token_id`:50256 for open-end generation.\n"
          ]
        },
        {
          "output_type": "stream",
          "name": "stdout",
          "text": [
            "  Validation Loss: 1.16\n",
            "  Validation took: 0:00:03\n",
            "\n",
            "======== Epoch 5 / 5 ========\n",
            "Training...\n",
            "  Batch   100  of    137. Loss: 0.8820787072181702.   Elapsed: 0:00:58.\n",
            "0: NytSe sanoo, että pitää ostaa ittelleski isoo trukin piänet pualehet, jos ostaa veljien kans samanmoinen pannu. Ei oo sellaasta löytyny. Kyllä sitä on ittekkin joskus osteltihin. Mulla oli ajatuksena ostaa isoo visseli ja sillä viilahalla, ku se oli nii isoo, ettei ollu oikeen sopiva peli ja ajattelin, että pitää ostaa joku iso pannu, johonki mumma tahtoo puhaltaa. _\n",
            "\n",
            "  Average training loss: 0.88\n",
            "  Training epoch took: 0:01:22\n",
            "\n",
            "Running Validation...\n",
            "  Validation Loss: 1.15\n",
            "  Validation took: 0:00:03\n",
            "\n",
            "Training complete!\n",
            "Total training took 0:06:58 (h:mm:ss)\n"
          ]
        }
      ]
    },
    {
      "cell_type": "markdown",
      "metadata": {
        "id": "VQTvJ1vRP7u4"
      },
      "source": [
        "Let's view the summary of the training process."
      ]
    },
    {
      "cell_type": "code",
      "metadata": {
        "id": "6O_NbXFGMukX",
        "colab": {
          "base_uri": "https://localhost:8080/",
          "height": 238
        },
        "outputId": "e085f446-8be3-4649-af53-4f9af32fae0f"
      },
      "source": [
        "# Display floats with two decimal places.\n",
        "pd.set_option('precision', 2)\n",
        "\n",
        "# Create a DataFrame from our training statistics.\n",
        "df_stats = pd.DataFrame(data=training_stats)\n",
        "\n",
        "# Use the 'epoch' as the row index.\n",
        "df_stats = df_stats.set_index('epoch')\n",
        "\n",
        "# A hack to force the column headers to wrap.\n",
        "#df = df.style.set_table_styles([dict(selector=\"th\",props=[('max-width', '70px')])])\n",
        "\n",
        "# Display the table.\n",
        "df_stats"
      ],
      "execution_count": 47,
      "outputs": [
        {
          "output_type": "execute_result",
          "data": {
            "text/plain": [
              "       Training Loss  Valid. Loss Training Time Validation Time\n",
              "epoch                                                          \n",
              "1               8.08         1.64       0:01:19         0:00:03\n",
              "2               1.52         1.31       0:01:20         0:00:03\n",
              "3               1.19         1.23       0:01:22         0:00:03\n",
              "4               1.01         1.16       0:01:22         0:00:03\n",
              "5               0.88         1.15       0:01:22         0:00:03"
            ],
            "text/html": [
              "\n",
              "  <div id=\"df-aeb02e90-2d32-4d3b-a3e5-ad8eae79295f\">\n",
              "    <div class=\"colab-df-container\">\n",
              "      <div>\n",
              "<style scoped>\n",
              "    .dataframe tbody tr th:only-of-type {\n",
              "        vertical-align: middle;\n",
              "    }\n",
              "\n",
              "    .dataframe tbody tr th {\n",
              "        vertical-align: top;\n",
              "    }\n",
              "\n",
              "    .dataframe thead th {\n",
              "        text-align: right;\n",
              "    }\n",
              "</style>\n",
              "<table border=\"1\" class=\"dataframe\">\n",
              "  <thead>\n",
              "    <tr style=\"text-align: right;\">\n",
              "      <th></th>\n",
              "      <th>Training Loss</th>\n",
              "      <th>Valid. Loss</th>\n",
              "      <th>Training Time</th>\n",
              "      <th>Validation Time</th>\n",
              "    </tr>\n",
              "    <tr>\n",
              "      <th>epoch</th>\n",
              "      <th></th>\n",
              "      <th></th>\n",
              "      <th></th>\n",
              "      <th></th>\n",
              "    </tr>\n",
              "  </thead>\n",
              "  <tbody>\n",
              "    <tr>\n",
              "      <th>1</th>\n",
              "      <td>8.08</td>\n",
              "      <td>1.64</td>\n",
              "      <td>0:01:19</td>\n",
              "      <td>0:00:03</td>\n",
              "    </tr>\n",
              "    <tr>\n",
              "      <th>2</th>\n",
              "      <td>1.52</td>\n",
              "      <td>1.31</td>\n",
              "      <td>0:01:20</td>\n",
              "      <td>0:00:03</td>\n",
              "    </tr>\n",
              "    <tr>\n",
              "      <th>3</th>\n",
              "      <td>1.19</td>\n",
              "      <td>1.23</td>\n",
              "      <td>0:01:22</td>\n",
              "      <td>0:00:03</td>\n",
              "    </tr>\n",
              "    <tr>\n",
              "      <th>4</th>\n",
              "      <td>1.01</td>\n",
              "      <td>1.16</td>\n",
              "      <td>0:01:22</td>\n",
              "      <td>0:00:03</td>\n",
              "    </tr>\n",
              "    <tr>\n",
              "      <th>5</th>\n",
              "      <td>0.88</td>\n",
              "      <td>1.15</td>\n",
              "      <td>0:01:22</td>\n",
              "      <td>0:00:03</td>\n",
              "    </tr>\n",
              "  </tbody>\n",
              "</table>\n",
              "</div>\n",
              "      <button class=\"colab-df-convert\" onclick=\"convertToInteractive('df-aeb02e90-2d32-4d3b-a3e5-ad8eae79295f')\"\n",
              "              title=\"Convert this dataframe to an interactive table.\"\n",
              "              style=\"display:none;\">\n",
              "        \n",
              "  <svg xmlns=\"http://www.w3.org/2000/svg\" height=\"24px\"viewBox=\"0 0 24 24\"\n",
              "       width=\"24px\">\n",
              "    <path d=\"M0 0h24v24H0V0z\" fill=\"none\"/>\n",
              "    <path d=\"M18.56 5.44l.94 2.06.94-2.06 2.06-.94-2.06-.94-.94-2.06-.94 2.06-2.06.94zm-11 1L8.5 8.5l.94-2.06 2.06-.94-2.06-.94L8.5 2.5l-.94 2.06-2.06.94zm10 10l.94 2.06.94-2.06 2.06-.94-2.06-.94-.94-2.06-.94 2.06-2.06.94z\"/><path d=\"M17.41 7.96l-1.37-1.37c-.4-.4-.92-.59-1.43-.59-.52 0-1.04.2-1.43.59L10.3 9.45l-7.72 7.72c-.78.78-.78 2.05 0 2.83L4 21.41c.39.39.9.59 1.41.59.51 0 1.02-.2 1.41-.59l7.78-7.78 2.81-2.81c.8-.78.8-2.07 0-2.86zM5.41 20L4 18.59l7.72-7.72 1.47 1.35L5.41 20z\"/>\n",
              "  </svg>\n",
              "      </button>\n",
              "      \n",
              "  <style>\n",
              "    .colab-df-container {\n",
              "      display:flex;\n",
              "      flex-wrap:wrap;\n",
              "      gap: 12px;\n",
              "    }\n",
              "\n",
              "    .colab-df-convert {\n",
              "      background-color: #E8F0FE;\n",
              "      border: none;\n",
              "      border-radius: 50%;\n",
              "      cursor: pointer;\n",
              "      display: none;\n",
              "      fill: #1967D2;\n",
              "      height: 32px;\n",
              "      padding: 0 0 0 0;\n",
              "      width: 32px;\n",
              "    }\n",
              "\n",
              "    .colab-df-convert:hover {\n",
              "      background-color: #E2EBFA;\n",
              "      box-shadow: 0px 1px 2px rgba(60, 64, 67, 0.3), 0px 1px 3px 1px rgba(60, 64, 67, 0.15);\n",
              "      fill: #174EA6;\n",
              "    }\n",
              "\n",
              "    [theme=dark] .colab-df-convert {\n",
              "      background-color: #3B4455;\n",
              "      fill: #D2E3FC;\n",
              "    }\n",
              "\n",
              "    [theme=dark] .colab-df-convert:hover {\n",
              "      background-color: #434B5C;\n",
              "      box-shadow: 0px 1px 3px 1px rgba(0, 0, 0, 0.15);\n",
              "      filter: drop-shadow(0px 1px 2px rgba(0, 0, 0, 0.3));\n",
              "      fill: #FFFFFF;\n",
              "    }\n",
              "  </style>\n",
              "\n",
              "      <script>\n",
              "        const buttonEl =\n",
              "          document.querySelector('#df-aeb02e90-2d32-4d3b-a3e5-ad8eae79295f button.colab-df-convert');\n",
              "        buttonEl.style.display =\n",
              "          google.colab.kernel.accessAllowed ? 'block' : 'none';\n",
              "\n",
              "        async function convertToInteractive(key) {\n",
              "          const element = document.querySelector('#df-aeb02e90-2d32-4d3b-a3e5-ad8eae79295f');\n",
              "          const dataTable =\n",
              "            await google.colab.kernel.invokeFunction('convertToInteractive',\n",
              "                                                     [key], {});\n",
              "          if (!dataTable) return;\n",
              "\n",
              "          const docLinkHtml = 'Like what you see? Visit the ' +\n",
              "            '<a target=\"_blank\" href=https://colab.research.google.com/notebooks/data_table.ipynb>data table notebook</a>'\n",
              "            + ' to learn more about interactive tables.';\n",
              "          element.innerHTML = '';\n",
              "          dataTable['output_type'] = 'display_data';\n",
              "          await google.colab.output.renderOutput(dataTable, element);\n",
              "          const docLink = document.createElement('div');\n",
              "          docLink.innerHTML = docLinkHtml;\n",
              "          element.appendChild(docLink);\n",
              "        }\n",
              "      </script>\n",
              "    </div>\n",
              "  </div>\n",
              "  "
            ]
          },
          "metadata": {},
          "execution_count": 47
        }
      ]
    },
    {
      "cell_type": "code",
      "metadata": {
        "id": "68xreA9JAmG5",
        "colab": {
          "base_uri": "https://localhost:8080/",
          "height": 427
        },
        "outputId": "b0425a30-b15b-4bcd-b187-76d1e50a417a"
      },
      "source": [
        "# Use plot styling from seaborn.\n",
        "sns.set(style='darkgrid')\n",
        "\n",
        "# Increase the plot size and font size.\n",
        "sns.set(font_scale=1.5)\n",
        "plt.rcParams[\"figure.figsize\"] = (12,6)\n",
        "\n",
        "# Plot the learning curve.\n",
        "plt.plot(df_stats['Training Loss'], 'b-o', label=\"Training\")\n",
        "plt.plot(df_stats['Valid. Loss'], 'g-o', label=\"Validation\")\n",
        "\n",
        "# Label the plot.\n",
        "plt.title(\"Training & Validation Loss\")\n",
        "plt.xlabel(\"Epoch\")\n",
        "plt.ylabel(\"Loss\")\n",
        "plt.legend()\n",
        "plt.xticks([1, 2, 3, 4])\n",
        "\n",
        "plt.show()"
      ],
      "execution_count": 48,
      "outputs": [
        {
          "output_type": "display_data",
          "data": {
            "text/plain": [
              "<Figure size 864x432 with 1 Axes>"
            ],
            "image/png": "[encoded data removed]"
          },
          "metadata": {}
        }
      ]
    },
    {
      "cell_type": "markdown",
      "metadata": {
        "id": "GfjYoa6WmkN6"
      },
      "source": [
        "# Display Model Info"
      ]
    },
    {
      "cell_type": "code",
      "metadata": {
        "id": "8PIiVlDYCtSq",
        "colab": {
          "base_uri": "https://localhost:8080/"
        },
        "outputId": "6ee387ae-afb5-4e3b-bdb5-d2c9434215fa"
      },
      "source": [
        "# Get all of the model's parameters as a list of tuples.\n",
        "params = list(model.named_parameters())\n",
        "\n",
        "print('The GPT-2 model has {:} different named parameters.\\n'.format(len(params)))\n",
        "\n",
        "print('==== Embedding Layer ====\\n')\n",
        "\n",
        "for p in params[0:2]:\n",
        "    print(\"{:<55} {:>12}\".format(p[0], str(tuple(p[1].size()))))\n",
        "\n",
        "print('\\n==== First Transformer ====\\n')\n",
        "\n",
        "for p in params[2:14]:\n",
        "    print(\"{:<55} {:>12}\".format(p[0], str(tuple(p[1].size()))))\n",
        "\n",
        "print('\\n==== Output Layer ====\\n')\n",
        "\n",
        "for p in params[-2:]:\n",
        "    print(\"{:<55} {:>12}\".format(p[0], str(tuple(p[1].size()))))"
      ],
      "execution_count": 49,
      "outputs": [
        {
          "output_type": "stream",
          "name": "stdout",
          "text": [
            "The GPT-2 model has 148 different named parameters.\n",
            "\n",
            "==== Embedding Layer ====\n",
            "\n",
            "transformer.wte.weight                                  (50259, 768)\n",
            "transformer.wpe.weight                                   (1024, 768)\n",
            "\n",
            "==== First Transformer ====\n",
            "\n",
            "transformer.h.0.ln_1.weight                                   (768,)\n",
            "transformer.h.0.ln_1.bias                                     (768,)\n",
            "transformer.h.0.attn.c_attn.weight                       (768, 2304)\n",
            "transformer.h.0.attn.c_attn.bias                             (2304,)\n",
            "transformer.h.0.attn.c_proj.weight                        (768, 768)\n",
            "transformer.h.0.attn.c_proj.bias                              (768,)\n",
            "transformer.h.0.ln_2.weight                                   (768,)\n",
            "transformer.h.0.ln_2.bias                                     (768,)\n",
            "transformer.h.0.mlp.c_fc.weight                          (768, 3072)\n",
            "transformer.h.0.mlp.c_fc.bias                                (3072,)\n",
            "transformer.h.0.mlp.c_proj.weight                        (3072, 768)\n",
            "transformer.h.0.mlp.c_proj.bias                               (768,)\n",
            "\n",
            "==== Output Layer ====\n",
            "\n",
            "transformer.ln_f.weight                                       (768,)\n",
            "transformer.ln_f.bias                                         (768,)\n"
          ]
        }
      ]
    },
    {
      "cell_type": "markdown",
      "metadata": {
        "id": "q2079Qyn8Mt8"
      },
      "source": [
        "# Saving & Loading Fine-Tuned Model\n"
      ]
    },
    {
      "cell_type": "code",
      "metadata": {
        "id": "6ulTWaOr8QNY",
        "colab": {
          "base_uri": "https://localhost:8080/"
        },
        "outputId": "f825467a-1d2f-4c65-a071-61f3f8a7f20c"
      },
      "source": [
        "# Saving best-practices: if you use defaults names for the model, you can reload it using from_pretrained()\n",
        "\n",
        "output_dir = './model_save/'\n",
        "\n",
        "# Create output directory if needed\n",
        "if not os.path.exists(output_dir):\n",
        "    os.makedirs(output_dir)\n",
        "\n",
        "print(\"Saving model to %s\" % output_dir)\n",
        "\n",
        "# Save a trained model, configuration and tokenizer using `save_pretrained()`.\n",
        "# They can then be reloaded using `from_pretrained()`\n",
        "model_to_save = model.module if hasattr(model, 'module') else model  # Take care of distributed/parallel training\n",
        "model_to_save.save_pretrained(output_dir)\n",
        "tokenizer.save_pretrained(output_dir)\n",
        "\n",
        "# Good practice: save your training arguments together with the trained model\n",
        "# torch.save(args, os.path.join(output_dir, 'training_args.bin'))\n"
      ],
      "execution_count": 50,
      "outputs": [
        {
          "output_type": "stream",
          "name": "stdout",
          "text": [
            "Saving model to ./model_save/\n"
          ]
        },
        {
          "output_type": "execute_result",
          "data": {
            "text/plain": [
              "('./model_save/tokenizer_config.json',\n",
              " './model_save/special_tokens_map.json',\n",
              " './model_save/vocab.json',\n",
              " './model_save/merges.txt',\n",
              " './model_save/added_tokens.json')"
            ]
          },
          "metadata": {},
          "execution_count": 50
        }
      ]
    },
    {
      "cell_type": "code",
      "metadata": {
        "id": "mqMzI3VTCZo5",
        "colab": {
          "base_uri": "https://localhost:8080/"
        },
        "outputId": "06b9d8e9-5fb0-400e-f949-cf40cff5f8ee"
      },
      "source": [
        "!ls -l --block-size=K ./model_save/"
      ],
      "execution_count": 51,
      "outputs": [
        {
          "output_type": "stream",
          "name": "stdout",
          "text": [
            "total 500036K\n",
            "-rw-r--r-- 1 root root      1K Nov 18 18:41 added_tokens.json\n",
            "-rw-r--r-- 1 root root      1K Nov 18 18:41 config.json\n",
            "-rw-r--r-- 1 root root    520K Nov 18 18:41 merges.txt\n",
            "-rw-r--r-- 1 root root 498441K Nov 18 18:41 pytorch_model.bin\n",
            "-rw-r--r-- 1 root root      1K Nov 18 18:41 special_tokens_map.json\n",
            "-rw-r--r-- 1 root root      1K Nov 18 18:41 tokenizer_config.json\n",
            "-rw-r--r-- 1 root root   1050K Nov 18 18:41 vocab.json\n"
          ]
        }
      ]
    },
    {
      "cell_type": "code",
      "metadata": {
        "id": "-WUFUIQ8Cu8D",
        "colab": {
          "base_uri": "https://localhost:8080/"
        },
        "outputId": "7f0e94b1-6334-4f01-9231-6be5eaf9206f"
      },
      "source": [
        "!ls -l --block-size=M ./model_save/pytorch_model.bin"
      ],
      "execution_count": 52,
      "outputs": [
        {
          "output_type": "stream",
          "name": "stdout",
          "text": [
            "-rw-r--r-- 1 root root 487M Nov 18 18:41 ./model_save/pytorch_model.bin\n"
          ]
        }
      ]
    },
    {
      "cell_type": "code",
      "metadata": {
        "id": "NxlZsafTC-V5"
      },
      "source": [
        "# Copy the model files to a directory in your Google Drive.\n",
        "!cp -r ./model_save/ $data_dir\n",
        "\n",
        "# # Load a trained model and vocabulary that you have fine-tuned\n",
        "#model = GPT2LMHeadModel.from_pretrained(output_dir)\n",
        "#tokenizer = GPT2Tokenizer.from_pretrained(output_dir)\n",
        "#model.to(device)"
      ],
      "execution_count": 53,
      "outputs": []
    },
    {
      "cell_type": "markdown",
      "metadata": {
        "id": "ZLf6rbRglYhQ"
      },
      "source": [
        "# Generate Text"
      ]
    },
    {
      "cell_type": "code",
      "metadata": {
        "id": "v4XhewaV93-_",
        "colab": {
          "base_uri": "https://localhost:8080/"
        },
        "outputId": "c0a5ee3e-de6f-448b-a82d-6c012fa14b4a"
      },
      "source": [
        "model.eval()\n",
        "\n",
        "prompt = \"<|startoftext|> Hiano ilima! Lähretähän ulokoolemaha.\"\n",
        "\n",
        "generated = torch.tensor(tokenizer.encode(prompt)).unsqueeze(0)\n",
        "generated = generated.to(device)\n",
        "\n",
        "print(generated)\n",
        "\n",
        "sample_outputs = model.generate(\n",
        "                                generated, \n",
        "                                #bos_token_id=random.randint(1,30000),\n",
        "                                do_sample=True,   \n",
        "                                top_k=50, \n",
        "                                max_length = 300,\n",
        "                                top_p=0.9, \n",
        "                                num_return_sequences=30\n",
        "                                )\n",
        "\n",
        "for i, sample_output in enumerate(sample_outputs):\n",
        "  print(\"{}: {}\\n\\n\".format(i, tokenizer.decode(sample_output, skip_special_tokens=True)))"
      ],
      "execution_count": 54,
      "outputs": [
        {
          "output_type": "stream",
          "name": "stderr",
          "text": [
            "The attention mask and the pad token id were not set. As a consequence, you may observe unexpected behavior. Please pass your input's `attention_mask` to obtain reliable results.\n",
            "Setting `pad_token_id` to `eos_token_id`:50256 for open-end generation.\n"
          ]
        },
        {
          "output_type": "stream",
          "name": "stdout",
          "text": [
            "tensor([[50257,   397,   660,    83,   544,  4098,     5,  2294, 39709,   891,\n",
            "           859, 43442,  5894, 31193,    18]], device='cuda:0')\n",
            "0:  Hiano ilima! Lähretähän ulokoolemaha. Kotia kohti tulles koira tuli ilaman suajaa, että moon pääsny irti. No, koira oli jo irti, eikä pääsny irti pihalle. No, se oli jo sutannu ojahan. Ei menny kauaakaan, kun se päästettiin irti. \n",
            "\n",
            "\n",
            "1:  Hiano ilima! Lähretähän ulokoolemaha. Seliittää vaa vuaro, mutta lumet pois, lumet pois, lumet pois ja tuallekki ajokki taharolle. \n",
            "\n",
            "\n",
            "2:  Hiano ilima! Lähretähän ulokoolemaha. Kualaasen Nuorisoseurantalolle meno on sen verran iäkkääs, ettei siinä ole oikeen tilaa autolle. No, se on niin suuri ilo. Eiku ei oo meirän kotitaloustunnista. Koulukaverini kysyy, että mistä päin te tulitte, mihinkä te menitte, kun lähärettihin. Se sanoo, että isä on sen verran iso, että mahtuuvat kaikki meirän vaattehet päälle. No, ��\n",
            "\n",
            "\n",
            "3:  Hiano ilima! Lähretähän ulokoolemaha. Kotia tultua olimma äiteen kans ikkis kans kotona ja isä teki viä siivouksen meille. Äitee teki aina pyykkiä, pyykkitupa paperia ja laattia. No, sitte isä tuli meitä kotia ja käski meitä siivoamahan kotia. Kun isä sai kotia tehtyä viä roskat, isä laittoo meirän vaattehet päälle. Isä hommas meille mustat avokkahat ja me killuimma ympäri kotia ja isä teki viä kaffipönttöön, johonka sai laittaa piänet viäki roskat. Isä tuli kotia ja isä otti meistä valokuvan ja rupes siivoamahan kotia. \n",
            "\n",
            "\n",
            "4:  Hiano ilima! Lähretähän ulokoolemaha. \n",
            "\n",
            "\n",
            "5:  Hiano ilima! Lähretähän ulokoolemaha. Se on viälä monenmoista hommaa, mutta itte oon aina ihimetelly, notta �__������_� ���\n",
            "\n",
            "\n",
            "6:  Hiano ilima! Lähretähän ulokoolemaha. Suamalaaset on kylymiä ja hyviä paikkoja. Lähärettihin hakemhan Epän tehtahan, notta \n",
            "\n",
            "\n",
            "7:  Hiano ilima! Lähretähän ulokoolemaha. Siälä on täälä viälä kuus sisarusta, joista vanhin asuu yksilapsisis. Jokahella on omat säännöt ja säännöt, eikä sitä kumminkaa tarvitte eres olla eres yksin kotona, jos äitee sattuu eksymähän mun kaffille. Isä on aina äiteen kans käyny uurestansa hakemas meille pöytälistoja, eikä sitä tarvinnu kauaa jonottaa. Oli kumminki niin huikia paikkoja, etten niitä raaski sinne raahata, ku kerran äitee oli itte sinne hakemas. Eikä niitä ennen ollu pakko jakaa, koska ei ollu omaa. Kerran mun miälestäni tuli riitatilanne, kun yks meistä meni toisesta korvelta ja toinen toisesta korvelta. Kun minä sain olla se, mitä itte tarvittin, niin äitee aina solisti ja sanoo pitävänsä koko sisarusparven seurasta. _\n",
            "\n",
            "\n",
            "8:  Hiano ilima! Lähretähän ulokoolemaha. Nukutahan pyärälläs sängys. Minen koskaa ittelleni. Soon sellaanen, notta jos ei tuule, niin sitte lähärettihin nukkumahan. Aamulla heräsin ihanan naisellisesti sängyn korkuhun. Yks tuttava tuli mua iloosnaan ja sanoo mulle, notta notta ny äitee nukkuu ihanan sängyn takana. Voi sitä onnen päivää, mitä sen aikana oli tapahtunu.. Se mies sitte sanoo mulle, notta mä oon äiteen poika, kun en pystyny nukahmaan ja en nukahrin. Siinä sitte nauratti, ku niin moni asia oli taas meirän plänttinä, kun se tuli vasta aamukaffitille ja mullekki tuli sellaanen olo, notta \n",
            "\n",
            "\n",
            "9:  Hiano ilima! Lähretähän ulokoolemaha. Aiva ku soli viälä vähä tuara, nii meirän pihamaalle tuli eres miäliäniä ja koko alakerrasta raikuu niin, että koko alakerta oli ku plänttiä, ku se raikuu. Sitte se tiäsi, ettei suamalaasilla oo viälä tilaa elää. Siinä oli viälä sellaasia, johona siälä seisoo joku punanaama akka ja akka, ku tualla oli sellaanen juttu, jota ei oikee tiärä oliko siinä punaanaa vai mustanaamas. Olimma sen kans viälä vissihinä, ku ensimmääsen kerran ajelimme peltoreviirin ohi. Meirän pihamaalle tuli tosi tuanaa raviriäkkääsiä, koska siinä oli kaks isoa isoa pressua. Kuivien heinien yms. nuamenloukko piti aina vahtimella ja välillä taluttaa heinien yms. päälle. Molimma ny siinä siälä siälä, ku soli viälä toistansa mainostanu, että  ���\n",
            "\n",
            "\n",
            "10:  Hiano ilima! Lähretähän ulokoolemaha. Kuarma nukkuu kaffin jäläkehen, hän keksii ottaa klangin päällensä kuvan ja sanoo, notta kohta on hyvä päivä. \n",
            "\n",
            "\n",
            "11:  Hiano ilima! Lähretähän ulokoolemaha. Me kans tehtihin viälä pari remonttia. No, isäntä kävi kattomahan ja kattomahan kaikki tiivit saumat. Kyllä se on aivan sika sikakalloosensa väärti, notta tiivistat pysyy ehjänä. \n",
            "\n",
            "\n",
            "12:  Hiano ilima! Lähretähän ulokoolemaha. Meistä on tullu äiteelleki jokakesäinen tenava. Tenavan kans söimmä tosi palio kaffia ja torella oli aina yhtä palio ku snaps-merkkiä. Meistä oli kyllä niiin hyvää ruokaa, ku niitä torella oli. Sitä oli niin palio, että meirän isä tykkäs aina siitä musta, ku silloon oltihin meirän kans. Isä teki aina kaiken mailman kepit, mutta aina niistä ei ollu niin imehiä, ettei niistä koskaa raaskinu mennä tiaroolle. Isä ei millään meinannu uskoa, että mä söisin sitä torella. Nikkarootihin, että ❀\n",
            "\n",
            "\n",
            "13:  Hiano ilima! Lähretähän ulokoolemaha. �\n",
            "\n",
            "\n",
            "14:  Hiano ilima! Lähretähän ulokoolemaha. Onkos teillä ruskiata housut, kun oot pääsny niistä pukemhan vaatteet? Ne on nimittäin tosi naiselliset, vaikka et oo osoottanu mitää prinsessahuilaa. Pyysin äitiä tarkistamahan, onko sillä ruskiatahatukses justihin mustat avokkahat, joita oli ennen meirän kotitaloustunnettakin. Äiti kysyy, onko sillä mustat avokkahat ja sanoo, että jos on niin voi tulla miähenki reikä. \n",
            "\n",
            "\n",
            "15:  Hiano ilima! Lähretähän ulokoolemaha. Alotetahan yhyrestä päätöksestä. No, sitte me sitte raikuuimma taas ja eikun kohti Ruatia. No, Ruatti oli aika vänkää ja sekös sitä ny häiritti. No, Ruatti vaan lähti jahtaamahan niitä vanhempia miäsiä, joista en tiärä mitää. Ei ollu oikeen intoa vaan kersoja niin ku niitä pelättihin, mutta ku ne oli niin isoja, notta niillä oli aina niin hyvä saalis. Piänet \n",
            "\n",
            "\n",
            "16:  Hiano ilima! Lähretähän ulokoolemaha. No, ny lähärin taas kävelylle. Oon ollu ny äiteen kans sillä lailla ku tiällä, mutta nyt ei oo ollu mullakaa hiakkaa. Soon viälä käyny sellaasen asian kokeelemas, kun oon kuullu puhuttavan notta ny täytyy ny ostaa raktori. Mulla oli kaks vuarokkaa, ku \n",
            "\n",
            "\n",
            "17:  Hiano ilima! Lähretähän ulokoolemaha. Piänet ”���❝❝\n",
            "\n",
            "\n",
            "18:  Hiano ilima! Lähretähän ulokoolemaha. �\n",
            "\n",
            "\n",
            "19:  Hiano ilima! Lähretähän ulokoolemaha. Kustu sanoo että hän ostaa kaupasta sianlihaa ja sianlihaa, mutta on siitä niin kipiää. - Sianlihaa ostahan, jos ostat, sanoo kauppias. - Ei sitä sianlihaa tartte siälä ikkuulla, sanoo kauppias.. - Meirän äiteellä oli jalakoja ja muuta reisua repes, ku rupes poramhan poramhan, sanoo kauppias. - Sianlihaa ostahan, sanoo kauppias.. Sianlihaa on pantu seivästyskohorista eli silloon ku siälä on oltu niin imettäväs, sanoo Kustu. Siälä on ollu monenlaasia piäniä kokemuksia siitä, sanoo Kustu. \n",
            "\n",
            "\n",
            "20:  Hiano ilima! Lähretähän ulokoolemaha. On se kumma, kun sitä aina aina tiärä, että pitää olla joku naapuri, joka ei välttämättä tiärä itteä, että siinä on oikeen naapuri, joka asuu samanlaasesti ja sanoo, että sua saarahan niin sanoo, että kyllä saat sanoa, mihinkä haluat. Sehän se vaa on, että aina pitää olla joku naapuri. No, nyt rupiaa oikeen kunnolla ulukomailla oles. Voi vissihin, kun se vaa sattuis, vaikka sitä sanotahan. No, eikun soli nii suuri, että en menis sitä enää mainostamahan, mutta niinhän sitä sanotahan, että pitää olla joku naapuris, joka ei tiärä itteään. Siälä on kyllä sellaanen sanonta, että ❀_\n",
            "\n",
            "\n",
            "21:  Hiano ilima! Lähretähän ulokoolemaha. Päätetähän tulla ensi kesänäkin Ruattahan parahiksi aikoohin. �\n",
            "\n",
            "\n",
            "22:  Hiano ilima! Lähretähän ulokoolemaha. Ollahan ny siä ulukomailla. Seliittää, mitä sattuu, ku sattuu. Kyllä sitä aina oppii, ettei saa olla yksin. � ja vaa oltihin onnellisin, ku pääsiääsiltä sai hyvän hinnan. \n",
            "\n",
            "\n",
            "23:  Hiano ilima! Lähretähän ulokoolemaha. Osallistu kilpailuun sähköpostilla osoitteeseen Osallistu kilpailuun omalla ja menetät kaikki osallistuja- ja osallistuja- sekä tulosnumerolla varustettuna. Sähköpostiosoittaja saa sähköpostiinsa sähköpostilaattia ja voi voittaa itsellesi 2500 euron arpalipun. Arvonnassa on 50 euron arpalippu, joka sisältää 10 euron ja 50 euron kännykkäkortin. Arvonnassa on myös tiaroot 5 euron pääsponsori. Arvonnassa on myös 5 euron kännykkäkortti, joka sisältää 10 euron arvoisen valokuvan. Arvonnassa on myös tiaroot 50 euron pääsponsori. Arvonnassa on myös 5 euron kännykkäkortti, joka sisältää 10 euron arvoisen valokuvan. Arvonnassa on myös 15 euron kännykkäkortti, joka sisältää 10 euron arvoisen valokuvan. Arvonnassa on myös 15 euron kännykkäkortti, joka sisältää 15 euron arvoisen valokuvan. Arvonnassa on myös 15 euron kännykkäkortti, joka sisältää 15 euron arvoisen valokuvan. Arvonnassa on myös 15 euron kännykkäkortti, joka sisältää 20 euron arvoisen valokuvan. Arvonnassa on myös 15 euron kännykkäkortti, joka sisältää 20 euron arvoisen valokuvan. Voittaja saa 15 euron kännykkäkortin ja 30 euron arvoisen valokuvan, johonka avulla ei voi kattoa. 23.30, ku alahan rupesimma tuata itte kotia ja kattomahan, mutta ei sitte löytyny, että mitä varten pitää olla. �\n",
            "\n",
            "\n",
            "24:  Hiano ilima! Lähretähän ulokoolemaha. Alotetahan juhannusaatto ja juhannusaatto. Juhannusaatto ja pyhäpäivä. Tiistai-ilmaanen meno on jo juhulavasta, mutta kirkolliset juhannusaatto ja pyhäpäivä menöö perinteen veroon. On jo torstaita, mutta torstaita viälä jo mennesnänsä sen ohi.. Ensiksi juhannusaatto ei menny kumminkaa niin ku piti, mutta seuraavana aamuna meno yltyy. Tiistai-ilmas meno oli eilispäivää. Tiistai-ilta meni sittenki enemmän aikaa. \n",
            "\n",
            "\n",
            "25:  Hiano ilima! Lähretähän ulokoolemaha. Suamen lipun liehuminen ei oo tainnu haitata, ku viälä lunta on satanu joka päivä. Syksy ja lämpöaset pakkaaset viälä loppiaas. Suamen lipun nosto lipputan taa ei oo tainnu haitata, vaikka silloon lunta sataa viäläki. Säähän sopii hyvin viälä yks päivä. _\n",
            "\n",
            "\n",
            "26:  Hiano ilima! Lähretähän ulokoolemaha. Seisoottelimma jalakoosimma pääosin raktorin peräs ja parkkeerasimme pihalle, kun ensimmäänen kerran olimma näkemäs sen takapenkillä. Jussin kans parkkeerasimme pihalle ja parkkeerasimme isännän kans autopaikalle. Me kävelimmä koko päivän siinä pihapiiris, vaikka se olikin isännän kans meirän isän työpiha. Kun parkkeerasimme pihalle, meitä kutsuttihinkin ilokaasujuhulaksi. Meillä oli kans isännän kans piäniä ajovehkehia ja kartturootikkeja. Meistä tuli oikeen ilimapalloonen näky. Isä tehtihin eres sähköavulla ajokisoja, joille ei päästetä autoja ajamhan sisälle, mutta ajokorttimiehiä ne ainakin oli. Jokahisella oli ajokortti ja ajokortti kartturoottihin. Kärryjen yms. nikkarointi kuuluu osaksi tämän päivän askarehihin. Isä teki kerran hevoosen sähköavulla ajokisoja ja sai niistä nimiks Jaakko Kustu. Kun ajimma autolla sisälle, oli meirän perällä aiva korkialla oleva isoo sähköjuna ja kuski puhalteli sähköaurasta vasaralle, sähköjuna paineli pualelle ja putos kuskin taa. \n",
            "\n",
            "\n",
            "27:  Hiano ilima! Lähretähän ulokoolemaha. Oikiastansa, silloon ku äitee tuli kotia, oli jo ensimmäänen lähtö kiikarit ylähä. Äiti sai kipiänen kipiänestä aivan mahtavan valokuvan, jolla oli heijastinnauhaa pään yläpuolella. Äiti oli sen verran tohkeissani, notta se oli sen verran ihime, notta piti laittaa punaaset vaatteet päälle. Meirän äitee otti meille valokuvia ja teki miälestä viälä meille tämmösiä:. \n",
            "\n",
            "\n",
            "28:  Hiano ilima! Lähretähän ulokoolemaha. Suamen lipun nosto lipputan solis ja lähärettihin kävelylle. Aurinko paistoo tasaasesti ja tuntuu niin heleppoavan viälä kävellä tasaasehen. Lentämällä, melekeen mitä vain voi, niin jaksaa kävellä ja melekeen mihin päin kaupunkia. Paluumatkalla oltihin taas äiteen kans. Melekeen äiteen kans suunnas kentälle. Pekan pojalle \n",
            "\n",
            "\n",
            "29:  Hiano ilima! Lähretähän ulokoolemaha. Saunaan ja mennään isännän kans kaharentoista kerran. Illan pimeteryys on muistojen muistojen muistojen paikka. \n",
            "\n",
            "\n"
          ]
        }
      ]
    },
    {
      "cell_type": "markdown",
      "metadata": {
        "id": "t4LrX5H-0nAU"
      },
      "source": [
        "\n",
        "\n",
        "```\n",
        "# This is formatted as code\n",
        "```\n",
        "\n",
        "These aren't bad at all!\n"
      ]
    }
  ]
}