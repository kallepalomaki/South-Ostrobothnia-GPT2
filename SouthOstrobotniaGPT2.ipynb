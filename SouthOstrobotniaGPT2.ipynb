{
  "nbformat": 4,
  "nbformat_minor": 0,
  "metadata": {
    "colab": {
      "provenance": [],
      "include_colab_link": true
    },
    "kernelspec": {
      "name": "python3",
      "display_name": "Python 3"
    },
    "accelerator": "GPU"
  },
  "cells": [
    {
      "cell_type": "markdown",
      "metadata": {
        "id": "view-in-github",
        "colab_type": "text"
      },
      "source": [
        "<a href=\"https://colab.research.google.com/github/kallepalomaki/South-Ostrobotnia-GPT2/blob/main/SouthOstrobotniaGPT2.ipynb\" target=\"_parent\"><img src=\"https://colab.research.google.com/assets/colab-badge.svg\" alt=\"Open In Colab\"/></a>"
      ]
    },
    {
      "cell_type": "markdown",
      "metadata": {
        "id": "EKOTlwcmxmej"
      },
      "source": [
        "**bold text**# GPT-2 Fine-Tuning experiment to Adapt Finnish GPT2 to South Ostrobotnia Accent\n",
        "\n",
        "\n"
      ]
    },
    {
      "cell_type": "markdown",
      "metadata": {
        "id": "NKGBoVwuhM4H"
      },
      "source": [
        "This is an non-serious experiment to fine tune GPT2 in Finnish language to generate South Ostrobotnia Accent.\n",
        "\n",
        "The script is based on the following GPT-2 Fine-Tuning tutorial:\n",
        "https://colab.research.google.com/drive/13dZVYEOMhXhkXWfvSMVM1TTtUDrT6Aeh#scrollTo=0NmMdkZO8R6q\n",
        "\n",
        "Author of the script mentions other tutorials as his sources:\n",
        " \"I've liberally taken bits from [Chris McCormick's BERT fine-tuning tutorial](https://mccormickml.com/2019/07/22/BERT-fine-tuning/), [Ian Porter's GPT2 tutorial](https://snappishproductions.com/blog/2020/03/01/chapter-9.5-text-generation-with-gpt-2-and-only-pytorch.html.html) and the [Hugging Face Language model fine-tuning script](https://huggingface.co/transformers/v2.0.0/examples.html#language-model-fine-tuning) so full credit to them. Chris' code has pretty much provided the basis for this script - you should definitely check out his [blog](https://mccormickml.com/tutorials/).\"\n",
        "\n",
        "At present I've just borrowed most of original parameters without much re-tuning.\n",
        "\n",
        "GPT2 model I'm using is this: \n",
        "https://huggingface.co/Finnish-NLP/gpt2-finnish?text=Teksti%C3%A4+tuottava+teko%C3%A4ly+on\n",
        "\n",
        "version Finnish-NLP/gpt2-finnish by Aapo Tanskanen and Rasmus Toivanen\n"
      ]
    },
    {
      "cell_type": "markdown",
      "metadata": {
        "id": "Xf3Qw77SZGbS"
      },
      "source": [
        "# Setup"
      ]
    },
    {
      "cell_type": "code",
      "metadata": {
        "id": "0NmMdkZO8R6q",
        "colab": {
          "base_uri": "https://localhost:8080/"
        },
        "outputId": "0188c44a-4779-45b9-fdd0-3b51429cb075"
      },
      "source": [
        "!pip install transformers"
      ],
      "execution_count": 34,
      "outputs": [
        {
          "output_type": "stream",
          "name": "stdout",
          "text": [
            "Looking in indexes: https://pypi.org/simple, https://us-python.pkg.dev/colab-wheels/public/simple/\n",
            "Requirement already satisfied: transformers in /usr/local/lib/python3.7/dist-packages (4.24.0)\n",
            "Requirement already satisfied: numpy>=1.17 in /usr/local/lib/python3.7/dist-packages (from transformers) (1.21.6)\n",
            "Requirement already satisfied: requests in /usr/local/lib/python3.7/dist-packages (from transformers) (2.23.0)\n",
            "Requirement already satisfied: filelock in /usr/local/lib/python3.7/dist-packages (from transformers) (3.8.0)\n",
            "Requirement already satisfied: regex!=2019.12.17 in /usr/local/lib/python3.7/dist-packages (from transformers) (2022.6.2)\n",
            "Requirement already satisfied: pyyaml>=5.1 in /usr/local/lib/python3.7/dist-packages (from transformers) (6.0)\n",
            "Requirement already satisfied: packaging>=20.0 in /usr/local/lib/python3.7/dist-packages (from transformers) (21.3)\n",
            "Requirement already satisfied: huggingface-hub<1.0,>=0.10.0 in /usr/local/lib/python3.7/dist-packages (from transformers) (0.11.0)\n",
            "Requirement already satisfied: tokenizers!=0.11.3,<0.14,>=0.11.1 in /usr/local/lib/python3.7/dist-packages (from transformers) (0.13.2)\n",
            "Requirement already satisfied: tqdm>=4.27 in /usr/local/lib/python3.7/dist-packages (from transformers) (4.64.1)\n",
            "Requirement already satisfied: importlib-metadata in /usr/local/lib/python3.7/dist-packages (from transformers) (4.13.0)\n",
            "Requirement already satisfied: typing-extensions>=3.7.4.3 in /usr/local/lib/python3.7/dist-packages (from huggingface-hub<1.0,>=0.10.0->transformers) (4.1.1)\n",
            "Requirement already satisfied: pyparsing!=3.0.5,>=2.0.2 in /usr/local/lib/python3.7/dist-packages (from packaging>=20.0->transformers) (3.0.9)\n",
            "Requirement already satisfied: zipp>=0.5 in /usr/local/lib/python3.7/dist-packages (from importlib-metadata->transformers) (3.10.0)\n",
            "Requirement already satisfied: urllib3!=1.25.0,!=1.25.1,<1.26,>=1.21.1 in /usr/local/lib/python3.7/dist-packages (from requests->transformers) (1.24.3)\n",
            "Requirement already satisfied: chardet<4,>=3.0.2 in /usr/local/lib/python3.7/dist-packages (from requests->transformers) (3.0.4)\n",
            "Requirement already satisfied: certifi>=2017.4.17 in /usr/local/lib/python3.7/dist-packages (from requests->transformers) (2022.9.24)\n",
            "Requirement already satisfied: idna<3,>=2.5 in /usr/local/lib/python3.7/dist-packages (from requests->transformers) (2.10)\n"
          ]
        }
      ]
    },
    {
      "cell_type": "code",
      "metadata": {
        "id": "JCCeyhuDHdOu",
        "colab": {
          "base_uri": "https://localhost:8080/"
        },
        "outputId": "e97992d8-4b47-491e-a03c-f3d1652b8b96"
      },
      "source": [
        "import os\n",
        "import time\n",
        "import datetime\n",
        "from google.colab import drive\n",
        "\n",
        "import pandas as pd\n",
        "import seaborn as sns\n",
        "import numpy as np\n",
        "import random\n",
        "\n",
        "import matplotlib.pyplot as plt\n",
        "%matplotlib inline\n",
        "\n",
        "import torch\n",
        "from torch.utils.data import Dataset, DataLoader, random_split, RandomSampler, SequentialSampler\n",
        "torch.manual_seed(42)\n",
        "\n",
        "from transformers import GPT2LMHeadModel,  GPT2Tokenizer, GPT2Config, GPT2LMHeadModel\n",
        "from transformers import AdamW, get_linear_schedule_with_warmup\n",
        "\n",
        "import nltk\n",
        "nltk.download('punkt')"
      ],
      "execution_count": 35,
      "outputs": [
        {
          "output_type": "stream",
          "name": "stderr",
          "text": [
            "[nltk_data] Downloading package punkt to /root/nltk_data...\n",
            "[nltk_data]   Package punkt is already up-to-date!\n"
          ]
        },
        {
          "output_type": "execute_result",
          "data": {
            "text/plain": [
              "True"
            ]
          },
          "metadata": {},
          "execution_count": 35
        }
      ]
    },
    {
      "cell_type": "code",
      "source": [
        "# You can skip training setting this False\n",
        "flag_train_model=True \n",
        "flag_run_orig_model=True"
      ],
      "metadata": {
        "id": "jwMsYk-PREND"
      },
      "execution_count": 36,
      "outputs": []
    },
    {
      "cell_type": "code",
      "metadata": {
        "id": "satxtOn9CzgR",
        "colab": {
          "base_uri": "https://localhost:8080/"
        },
        "outputId": "56f89d4b-2061-43ad-e8b9-26c0484d815d"
      },
      "source": [
        "!nvidia-smi"
      ],
      "execution_count": 37,
      "outputs": [
        {
          "output_type": "stream",
          "name": "stdout",
          "text": [
            "Sat Nov 19 17:49:35 2022       \n",
            "+-----------------------------------------------------------------------------+\n",
            "| NVIDIA-SMI 460.32.03    Driver Version: 460.32.03    CUDA Version: 11.2     |\n",
            "|-------------------------------+----------------------+----------------------+\n",
            "| GPU  Name        Persistence-M| Bus-Id        Disp.A | Volatile Uncorr. ECC |\n",
            "| Fan  Temp  Perf  Pwr:Usage/Cap|         Memory-Usage | GPU-Util  Compute M. |\n",
            "|                               |                      |               MIG M. |\n",
            "|===============================+======================+======================|\n",
            "|   0  Tesla T4            Off  | 00000000:00:04.0 Off |                    0 |\n",
            "| N/A   54C    P0    29W /  70W |   2624MiB / 15109MiB |      0%      Default |\n",
            "|                               |                      |                  N/A |\n",
            "+-------------------------------+----------------------+----------------------+\n",
            "                                                                               \n",
            "+-----------------------------------------------------------------------------+\n",
            "| Processes:                                                                  |\n",
            "|  GPU   GI   CI        PID   Type   Process name                  GPU Memory |\n",
            "|        ID   ID                                                   Usage      |\n",
            "|=============================================================================|\n",
            "+-----------------------------------------------------------------------------+\n"
          ]
        }
      ]
    },
    {
      "cell_type": "markdown",
      "metadata": {
        "id": "ZfdCML6Parvv"
      },
      "source": [
        "# Create Training Set\n",
        "\n",
        "The data used for fine tuning the GPT2 model are blog texts that are crowled from two blog sites. http://pohopekka.blogspot.com/, https://www.blogit.fi/tag/pakina\n",
        "\n",
        "Crawling scripts are proviced separately.\n"
      ]
    },
    {
      "cell_type": "code",
      "metadata": {
        "id": "_EYFrNxr-TYb",
        "colab": {
          "base_uri": "https://localhost:8080/"
        },
        "outputId": "68cb1685-595f-40a3-d305-bc5993fc1864"
      },
      "source": [
        "# mount my Google Drive directory and access the training data located there\n",
        "gdrive_dir = '/content/gdrive/'\n",
        "data_dir = os.path.join(gdrive_dir, \"'My Drive'\",\"'Colab Notebooks'\")\n",
        "# crawled texts\n",
        "filename = 'ep.txt'\n",
        "drive.mount(gdrive_dir, force_remount=True)\n"
      ],
      "execution_count": 38,
      "outputs": [
        {
          "output_type": "stream",
          "name": "stdout",
          "text": [
            "Mounted at /content/gdrive/\n"
          ]
        }
      ]
    },
    {
      "cell_type": "code",
      "metadata": {
        "id": "G_DWAMe1FopX"
      },
      "source": [
        "# copy the data to the current Colab working directory\n",
        "!cp $data_dir/$filename ."
      ],
      "execution_count": 39,
      "outputs": []
    },
    {
      "cell_type": "code",
      "source": [
        "!ls $data_dir"
      ],
      "metadata": {
        "colab": {
          "base_uri": "https://localhost:8080/"
        },
        "id": "2oT7Hvc-h2na",
        "outputId": "2eec9bfa-e8c7-45c1-9841-b7598136d677"
      },
      "execution_count": 40,
      "outputs": [
        {
          "output_type": "stream",
          "name": "stdout",
          "text": [
            "'Copy of GPT-2 Fine-Tuning w  Hugging Face & PyTorch.ipynb'\n",
            " ep.txt\n",
            "'language model tests.ipynb'\n",
            " model_back_up\n",
            " model_save\n",
            "'Nonlinear Sequence SimpleRNN.ipynb'\n",
            " pohopekka_dialog.txt\n",
            " seitseman_veljesta_dialog.txt\n",
            " SouthOstrobotniaGPT2.ipynb\n"
          ]
        }
      ]
    },
    {
      "cell_type": "code",
      "metadata": {
        "id": "ya3zsH0r-3JK"
      },
      "source": [
        "# load into a data frame\n",
        "\n",
        "all_text=[]\n",
        "it=1\n",
        "line_text=\"\"\n",
        "with open(filename) as f:\n",
        "  for line in f:\n",
        "    line=line.strip()\n",
        "    if it % 8 == 0:\n",
        "      all_text.append(line_text)\n",
        "      line_text=\"\"\n",
        "    if len(line)>5:\n",
        "      line_text+=line + \" \"\n",
        "      line_text=line_text.replace(\" .\", \".\")\n",
        "      it+=1\n",
        "    \n",
        "all_text=pd.Series(all_text)"
      ],
      "execution_count": 41,
      "outputs": []
    },
    {
      "cell_type": "markdown",
      "metadata": {
        "id": "hQ1oK0kXaV5p"
      },
      "source": [
        "Following the original script we'll find out the document length distribution."
      ]
    },
    {
      "cell_type": "code",
      "metadata": {
        "id": "cKsH2sU0OCQA",
        "colab": {
          "base_uri": "https://localhost:8080/",
          "height": 337
        },
        "outputId": "c319a1c3-fcec-4391-ac48-d31982c5081d"
      },
      "source": [
        "doc_lengths = []\n",
        "\n",
        "for text_item in all_text:\n",
        "\n",
        "    # get rough token count distribution\n",
        "    tokens = nltk.word_tokenize(text_item)\n",
        "\n",
        "    doc_lengths.append(len(tokens))\n",
        "\n",
        "doc_lengths = np.array(doc_lengths)\n",
        "\n",
        "sns.distplot(doc_lengths)"
      ],
      "execution_count": 42,
      "outputs": [
        {
          "output_type": "stream",
          "name": "stderr",
          "text": [
            "/usr/local/lib/python3.7/dist-packages/seaborn/distributions.py:2619: FutureWarning: `distplot` is a deprecated function and will be removed in a future version. Please adapt your code to use either `displot` (a figure-level function with similar flexibility) or `histplot` (an axes-level function for histograms).\n",
            "  warnings.warn(msg, FutureWarning)\n"
          ]
        },
        {
          "output_type": "execute_result",
          "data": {
            "text/plain": [
              "<matplotlib.axes._subplots.AxesSubplot at 0x7ff5a023ea50>"
            ]
          },
          "metadata": {},
          "execution_count": 42
        },
        {
          "output_type": "display_data",
          "data": {
            "text/plain": [
              "<Figure size 432x288 with 1 Axes>"
            ],
            "image/png": "[encoded data removed]"
          },
          "metadata": {
            "needs_background": "light"
          }
        }
      ]
    },
    {
      "cell_type": "markdown",
      "metadata": {
        "id": "cMml12FJGjPW"
      },
      "source": [
        "# GPT2 Tokenizer"
      ]
    },
    {
      "cell_type": "markdown",
      "metadata": {
        "id": "ANJhbBwdxN-b"
      },
      "source": [
        "\n",
        "Special tokens are specified following orignal scripts.\n",
        "\n",
        "Models are Finnish GPT2 from the following project.\n",
        "https://huggingface.co/Finnish-NLP/gpt2-finnish?text=Teksti%C3%A4+tuottava+teko%C3%A4ly+on\n",
        "\n",
        "Note that the medium and large models were too big for free co-lab version, so I couldn't check them out."
      ]
    },
    {
      "cell_type": "code",
      "metadata": {
        "id": "Z474sSC6oe7A",
        "colab": {
          "base_uri": "https://localhost:8080/"
        },
        "outputId": "33b83031-922d-43b3-b423-42f157a91b05"
      },
      "source": [
        "# Load the GPT tokenizer.\n",
        "model_name='Finnish-NLP/gpt2-finnish'\n",
        "#model_name='Finnish-NLP/gpt2-medium-finnish'\n",
        "#model_name='Finnish-NLP/gpt2-large-finnish'\n",
        "if flag_train_model:\n",
        "  tokenizer = GPT2Tokenizer.from_pretrained(model_name, bos_token='<|startoftext|>', eos_token='<|endoftext|>', pad_token='<|pad|>') #gpt2-medium\n",
        "\n",
        "if flag_run_orig_model:\n",
        "  tokenizer_orig = GPT2Tokenizer.from_pretrained(model_name, bos_token='<|startoftext|>', eos_token='<|endoftext|>', pad_token='<|pad|>') #gpt2-medium\n"
      ],
      "execution_count": 43,
      "outputs": [
        {
          "output_type": "stream",
          "name": "stderr",
          "text": [
            "Special tokens have been added in the vocabulary, make sure the associated word embeddings are fine-tuned or trained.\n",
            "Special tokens have been added in the vocabulary, make sure the associated word embeddings are fine-tuned or trained.\n"
          ]
        }
      ]
    },
    {
      "cell_type": "code",
      "metadata": {
        "id": "sh0XKuDvnryn",
        "colab": {
          "base_uri": "https://localhost:8080/"
        },
        "outputId": "37304642-face-43f2-b7ba-a0f6a5547283"
      },
      "source": [
        "if flag_train_model:\n",
        "  print(\"The max model length is {} for this model, although the actual embedding size for GPT small is 768\".format(tokenizer.model_max_length))\n",
        "  print(\"The beginning of sequence token {} token has the id {}\".format(tokenizer.convert_ids_to_tokens(tokenizer.bos_token_id), tokenizer.bos_token_id))\n",
        "  print(\"The end of sequence token {} has the id {}\".format(tokenizer.convert_ids_to_tokens(tokenizer.eos_token_id), tokenizer.eos_token_id))\n",
        "  print(\"The padding token {} has the id {}\".format(tokenizer.convert_ids_to_tokens(tokenizer.pad_token_id), tokenizer.pad_token_id))"
      ],
      "execution_count": 44,
      "outputs": [
        {
          "output_type": "stream",
          "name": "stdout",
          "text": [
            "The max model length is 1000000000000000019884624838656 for this model, although the actual embedding size for GPT small is 768\n",
            "The beginning of sequence token <|startoftext|> token has the id 50257\n",
            "The end of sequence token <|endoftext|> has the id 50256\n",
            "The padding token <|pad|> has the id 50258\n"
          ]
        }
      ]
    },
    {
      "cell_type": "markdown",
      "metadata": {
        "id": "ex5O1eV-Pfct"
      },
      "source": [
        "# PyTorch Datasets & Dataloaders\n"
      ]
    },
    {
      "cell_type": "markdown",
      "metadata": {
        "id": "3lgZoOYkxZfx"
      },
      "source": [
        "Using batch size 2 as the original script. "
      ]
    },
    {
      "cell_type": "code",
      "metadata": {
        "id": "scqrzmqhV__z"
      },
      "source": [
        "batch_size = 2"
      ],
      "execution_count": 45,
      "outputs": []
    },
    {
      "cell_type": "code",
      "metadata": {
        "id": "U_XJVIetKN-h"
      },
      "source": [
        "class GPT2Dataset(Dataset):\n",
        "\n",
        "  def __init__(self, txt_list, tokenizer, gpt2_type=\"gpt2\", max_length=768):\n",
        "\n",
        "    self.tokenizer = tokenizer\n",
        "    self.input_ids = []\n",
        "    self.attn_masks = []\n",
        "\n",
        "    for txt in txt_list:\n",
        "\n",
        "      encodings_dict = tokenizer('<|startoftext|>'+ txt + '<|endoftext|>', truncation=True, max_length=max_length, padding=\"max_length\")\n",
        "\n",
        "      self.input_ids.append(torch.tensor(encodings_dict['input_ids']))\n",
        "      self.attn_masks.append(torch.tensor(encodings_dict['attention_mask']))\n",
        "    \n",
        "  def __len__(self):\n",
        "    return len(self.input_ids)\n",
        "\n",
        "  def __getitem__(self, idx):\n",
        "    return self.input_ids[idx], self.attn_masks[idx] "
      ],
      "execution_count": 46,
      "outputs": []
    },
    {
      "cell_type": "markdown",
      "metadata": {
        "id": "89Z7aYUgpWrd"
      },
      "source": [
        "Padding settings are directly from the original script. May not be optimal for this use case."
      ]
    },
    {
      "cell_type": "code",
      "metadata": {
        "id": "Xza_O1_rD7yh",
        "colab": {
          "base_uri": "https://localhost:8080/"
        },
        "outputId": "313068ae-c36b-4282-dfc5-36730c006ec8"
      },
      "source": [
        "if flag_train_model:\n",
        "  dataset = GPT2Dataset(all_text, tokenizer, max_length=768)\n",
        "\n",
        "  # Split into training and validation sets\n",
        "  train_size = int(0.9 * len(dataset))\n",
        "  val_size = len(dataset) - train_size\n",
        "\n",
        "  train_dataset, val_dataset = random_split(dataset, [train_size, val_size])\n",
        "\n",
        "  print('{:>5,} training samples'.format(train_size))\n",
        "  print('{:>5,} validation samples'.format(val_size))"
      ],
      "execution_count": 47,
      "outputs": [
        {
          "output_type": "stream",
          "name": "stdout",
          "text": [
            "  273 training samples\n",
            "   31 validation samples\n"
          ]
        }
      ]
    },
    {
      "cell_type": "code",
      "metadata": {
        "id": "x0WeP5PREUuy"
      },
      "source": [
        "if flag_train_model:\n",
        "  # Create the DataLoaders for our training and validation datasets.\n",
        "  # We'll take training samples in random order. \n",
        "  train_dataloader = DataLoader(\n",
        "              train_dataset,  # The training samples.\n",
        "              sampler = RandomSampler(train_dataset), # Select batches randomly\n",
        "              batch_size = batch_size # Trains with this batch size.\n",
        "          )\n",
        "\n",
        "  # For validation the order doesn't matter, so we'll just read them sequentially.\n",
        "  validation_dataloader = DataLoader(\n",
        "              val_dataset, # The validation samples.\n",
        "              sampler = SequentialSampler(val_dataset), # Pull out batches sequentially.\n",
        "              batch_size = batch_size # Evaluate with this batch size.\n",
        "          )"
      ],
      "execution_count": 48,
      "outputs": []
    },
    {
      "cell_type": "markdown",
      "metadata": {
        "id": "D6TKgyUzPIQc"
      },
      "source": [
        "# Finetune GPT2 Language Model"
      ]
    },
    {
      "cell_type": "code",
      "metadata": {
        "id": "gFsCTp_mporB"
      },
      "source": [
        "device = torch.device(\"cuda\")\n",
        "\n",
        "def configure_model(model_name, tokenizer):\n",
        "  # I'm not really doing anything with the config buheret\n",
        "  configuration = GPT2Config.from_pretrained(model_name, output_hidden_states=False)\n",
        "\n",
        "  # instantiate the model\n",
        "  model = GPT2LMHeadModel.from_pretrained(model_name, config=configuration)\n",
        "\n",
        "  # this step is necessary because I've added some tokens (bos_token, etc) to the embeddings\n",
        "  # otherwise the tokenizer and model tensors won't match up\n",
        "  model.resize_token_embeddings(len(tokenizer))\n",
        "\n",
        "  # Tell pytorch to run this model on the GPU.\n",
        "  model.cuda()\n",
        "  return model\n",
        "\n",
        "\n",
        "if flag_train_model:\n",
        "\n",
        "  model=configure_model(model_name, tokenizer)\n",
        "\n",
        "  # Set the seed value all over the place to make this reproducible.\n",
        "  seed_val = 42\n",
        "\n",
        "  random.seed(seed_val)\n",
        "  np.random.seed(seed_val)\n",
        "  torch.manual_seed(seed_val)\n",
        "  torch.cuda.manual_seed_all(seed_val)"
      ],
      "execution_count": 49,
      "outputs": []
    },
    {
      "cell_type": "code",
      "metadata": {
        "id": "pBEVY2PYSTXJ"
      },
      "source": [
        "# some parameters from original script, may not be optimal\n",
        "\n",
        "epochs = 5\n",
        "learning_rate = 5e-4\n",
        "warmup_steps = 1e2\n",
        "epsilon = 1e-8\n",
        "\n",
        "# this produces sample output every 100 steps\n",
        "sample_every = 100"
      ],
      "execution_count": 50,
      "outputs": []
    },
    {
      "cell_type": "code",
      "metadata": {
        "id": "GLs72DuMODJO",
        "colab": {
          "base_uri": "https://localhost:8080/"
        },
        "outputId": "307dfe9c-f613-4f2c-8bd9-c953eb7e284c"
      },
      "source": [
        "if flag_train_model:\n",
        "  # Note: AdamW is a class from the huggingface library (as opposed to pytorch) \n",
        "  optimizer = AdamW(model.parameters(),\n",
        "                    lr = learning_rate,\n",
        "                    eps = epsilon\n",
        "                  )"
      ],
      "execution_count": 51,
      "outputs": [
        {
          "output_type": "stream",
          "name": "stderr",
          "text": [
            "/usr/local/lib/python3.7/dist-packages/transformers/optimization.py:310: FutureWarning: This implementation of AdamW is deprecated and will be removed in a future version. Use the PyTorch implementation torch.optim.AdamW instead, or set `no_deprecation_warning=True` to disable this warning\n",
            "  FutureWarning,\n"
          ]
        }
      ]
    },
    {
      "cell_type": "code",
      "metadata": {
        "id": "-p0upAhhRiIx"
      },
      "source": [
        "if flag_train_model:\n",
        "  # Total number of training steps is [number of batches] x [number of epochs]. \n",
        "  # (Note that this is not the same as the number of training samples).\n",
        "  total_steps = len(train_dataloader) * epochs\n",
        "\n",
        "  # Create the learning rate scheduler.\n",
        "  # This changes the learning rate as the training loop progresses\n",
        "  scheduler = get_linear_schedule_with_warmup(optimizer, \n",
        "                                              num_warmup_steps = warmup_steps, \n",
        "                                              num_training_steps = total_steps)"
      ],
      "execution_count": 52,
      "outputs": []
    },
    {
      "cell_type": "code",
      "metadata": {
        "id": "gpt6tR83keZD"
      },
      "source": [
        "def format_time(elapsed):\n",
        "    return str(datetime.timedelta(seconds=int(round((elapsed)))))"
      ],
      "execution_count": 53,
      "outputs": []
    },
    {
      "cell_type": "code",
      "metadata": {
        "id": "vCPohrZ-CTWu",
        "colab": {
          "base_uri": "https://localhost:8080/"
        },
        "outputId": "e3958d17-511d-4209-9fd2-4aa86d1dac34"
      },
      "source": [
        "if flag_train_model:\n",
        "  torch.cuda.empty_cache()\n",
        "  total_t0 = time.time()\n",
        "\n",
        "  training_stats = []\n",
        "\n",
        "  model = model.to(device)\n",
        "\n",
        "  for epoch_i in range(0, epochs):\n",
        "\n",
        "      # ========================================\n",
        "      #               Training\n",
        "      # ========================================\n",
        "\n",
        "      print(\"\")\n",
        "      print('======== Epoch {:} / {:} ========'.format(epoch_i + 1, epochs))\n",
        "      print('Training...')\n",
        "\n",
        "      t0 = time.time()\n",
        "\n",
        "      total_train_loss = 0\n",
        "\n",
        "      model.train()\n",
        "\n",
        "      for step, batch in enumerate(train_dataloader):\n",
        "\n",
        "          b_input_ids = batch[0].to(device)\n",
        "          b_labels = batch[0].to(device)\n",
        "          b_masks = batch[1].to(device)\n",
        "\n",
        "          model.zero_grad()        \n",
        "\n",
        "          outputs = model(  b_input_ids,\n",
        "                            labels=b_labels, \n",
        "                            attention_mask = b_masks,\n",
        "                            token_type_ids=None\n",
        "                          )\n",
        "\n",
        "          loss = outputs[0]  \n",
        "\n",
        "          batch_loss = loss.item()\n",
        "          total_train_loss += batch_loss\n",
        "\n",
        "          # Get sample every x batches.\n",
        "          if step % sample_every == 0 and not step == 0:\n",
        "\n",
        "              elapsed = format_time(time.time() - t0)\n",
        "              print('  Batch {:>5,}  of  {:>5,}. Loss: {:>5,}.   Elapsed: {:}.'.format(step, len(train_dataloader), batch_loss, elapsed))\n",
        "\n",
        "              model.eval()\n",
        "\n",
        "              sample_outputs = model.generate(\n",
        "                                      bos_token_id=random.randint(1,30000),\n",
        "                                      do_sample=True,   \n",
        "                                      top_k=50, \n",
        "                                      max_length = 200,\n",
        "                                      top_p=0.95, \n",
        "                                      num_return_sequences=1\n",
        "                                  )\n",
        "              for i, sample_output in enumerate(sample_outputs):\n",
        "                    print(\"{}: {}\".format(i, tokenizer.decode(sample_output, skip_special_tokens=True)))\n",
        "              \n",
        "              model.train()\n",
        "\n",
        "          loss.backward()\n",
        "\n",
        "          optimizer.step()\n",
        "\n",
        "          scheduler.step()\n",
        "\n",
        "      # Calculate the average loss over all of the batches.\n",
        "      avg_train_loss = total_train_loss / len(train_dataloader)       \n",
        "      \n",
        "      # Measure how long this epoch took.\n",
        "      training_time = format_time(time.time() - t0)\n",
        "\n",
        "      print(\"\")\n",
        "      print(\"  Average training loss: {0:.2f}\".format(avg_train_loss))\n",
        "      print(\"  Training epoch took: {:}\".format(training_time))\n",
        "          \n",
        "      # ========================================\n",
        "      #               Validation\n",
        "      # ========================================\n",
        "\n",
        "      print(\"\")\n",
        "      print(\"Running Validation...\")\n",
        "\n",
        "      t0 = time.time()\n",
        "\n",
        "      model.eval()\n",
        "\n",
        "      total_eval_loss = 0\n",
        "      nb_eval_steps = 0\n",
        "\n",
        "      # Evaluate data for one epoch\n",
        "      for batch in validation_dataloader:\n",
        "          \n",
        "          b_input_ids = batch[0].to(device)\n",
        "          b_labels = batch[0].to(device)\n",
        "          b_masks = batch[1].to(device)\n",
        "          \n",
        "          with torch.no_grad():        \n",
        "\n",
        "              outputs  = model(b_input_ids, \n",
        "  #                            token_type_ids=None, \n",
        "                              attention_mask = b_masks,\n",
        "                              labels=b_labels)\n",
        "            \n",
        "              loss = outputs[0]  \n",
        "              \n",
        "          batch_loss = loss.item()\n",
        "          total_eval_loss += batch_loss        \n",
        "\n",
        "      avg_val_loss = total_eval_loss / len(validation_dataloader)\n",
        "      \n",
        "      validation_time = format_time(time.time() - t0)    \n",
        "\n",
        "      print(\"  Validation Loss: {0:.2f}\".format(avg_val_loss))\n",
        "      print(\"  Validation took: {:}\".format(validation_time))\n",
        "\n",
        "      # Record all statistics from this epoch.\n",
        "      training_stats.append(\n",
        "          {\n",
        "              'epoch': epoch_i + 1,\n",
        "              'Training Loss': avg_train_loss,\n",
        "              'Valid. Loss': avg_val_loss,\n",
        "              'Training Time': training_time,\n",
        "              'Validation Time': validation_time\n",
        "          }\n",
        "      )\n",
        "\n",
        "  print(\"\")\n",
        "  print(\"Training complete!\")\n",
        "  print(\"Total training took {:} (h:mm:ss)\".format(format_time(time.time()-total_t0)))"
      ],
      "execution_count": 54,
      "outputs": [
        {
          "output_type": "stream",
          "name": "stdout",
          "text": [
            "\n",
            "======== Epoch 1 / 5 ========\n",
            "Training...\n"
          ]
        },
        {
          "output_type": "stream",
          "name": "stderr",
          "text": [
            "The attention mask and the pad token id were not set. As a consequence, you may observe unexpected behavior. Please pass your input's `attention_mask` to obtain reliable results.\n",
            "Setting `pad_token_id` to `eos_token_id`:50256 for open-end generation.\n"
          ]
        },
        {
          "output_type": "stream",
          "name": "stdout",
          "text": [
            "  Batch   100  of    137. Loss: 2.057128667831421.   Elapsed: 0:00:55.\n",
            "0:  tuottanutMaskinhan oroli jälähän jahan jannammamahan, meiristä tuli kans sitä meirän änsä oli, kuinka meillon, se tuli meille ikkii talahan meiränhän. Siinä, joka kävi siinä aina yhääki. Ei siinä olis voinu kyllä sitä sen ku sanoo, mutta se justihin keris ny se, että ei. Me meimmä, joka oli se, johon \n",
            "\n",
            "  Average training loss: 8.08\n",
            "  Training epoch took: 0:01:20\n",
            "\n",
            "Running Validation...\n",
            "  Validation Loss: 1.64\n",
            "  Validation took: 0:00:03\n",
            "\n",
            "======== Epoch 2 / 5 ========\n",
            "Training...\n"
          ]
        },
        {
          "output_type": "stream",
          "name": "stderr",
          "text": [
            "The attention mask and the pad token id were not set. As a consequence, you may observe unexpected behavior. Please pass your input's `attention_mask` to obtain reliable results.\n",
            "Setting `pad_token_id` to `eos_token_id`:50256 for open-end generation.\n"
          ]
        },
        {
          "output_type": "stream",
          "name": "stdout",
          "text": [
            "  Batch   100  of    137. Loss: 1.1458570957183838.   Elapsed: 0:00:59.\n",
            "0:  laske\n",
            "\n",
            "  Average training loss: 1.52\n",
            "  Training epoch took: 0:01:23\n",
            "\n",
            "Running Validation...\n",
            "  Validation Loss: 1.31\n",
            "  Validation took: 0:00:03\n",
            "\n",
            "======== Epoch 3 / 5 ========\n",
            "Training...\n"
          ]
        },
        {
          "output_type": "stream",
          "name": "stderr",
          "text": [
            "The attention mask and the pad token id were not set. As a consequence, you may observe unexpected behavior. Please pass your input's `attention_mask` to obtain reliable results.\n",
            "Setting `pad_token_id` to `eos_token_id`:50256 for open-end generation.\n"
          ]
        },
        {
          "output_type": "stream",
          "name": "stdout",
          "text": [
            "  Batch   100  of    137. Loss: 0.8930748701095581.   Elapsed: 0:00:58.\n",
            "0:  asiaKun olin koulusta kotia, niin tunsin olevani jo aivan varma siitä, että saan nimeni ja nimeni. Ja niin minä havaattin ja niin minä havaattin. Ja niin me sitte havaattinhin ja havaattinehen. Ja niin me sitte havaattinhin, kuinka isä tiätysti ja tarkasti ja tarkasti otti ja otti meitä sisaruksia ja lähärin ja sanoo, että me ei oltu tehty, kun isä lähti meirän koulun pihalle. Isä otti heti ja pani kaikki pois. Isä haki meille opettajalta, että  kumminki saisimma ne vaatteet pois. �Periaatehian ja   kumminki niin hyvin pääsi. Isä lähti siitä sitte liikkeelle ja lähti alaha, sitte lähäretteli ja sitten lähtimmä äiteen kans häntä ja notta tämä tuli kotia. Isä sai kumminki housut pois ja huipunhatulle. Nytkö jo palio voihihin. � yn. ja, notta isä haki meille opettajalta, että uta\n",
            "\n",
            "  Average training loss: 1.19\n",
            "  Training epoch took: 0:01:24\n",
            "\n",
            "Running Validation...\n",
            "  Validation Loss: 1.23\n",
            "  Validation took: 0:00:03\n",
            "\n",
            "======== Epoch 4 / 5 ========\n",
            "Training...\n"
          ]
        },
        {
          "output_type": "stream",
          "name": "stderr",
          "text": [
            "The attention mask and the pad token id were not set. As a consequence, you may observe unexpected behavior. Please pass your input's `attention_mask` to obtain reliable results.\n",
            "Setting `pad_token_id` to `eos_token_id`:50256 for open-end generation.\n"
          ]
        },
        {
          "output_type": "stream",
          "name": "stdout",
          "text": [
            "  Batch   100  of    137. Loss: 1.0499677658081055.   Elapsed: 0:01:00.\n",
            "0:  säästöjä\n",
            "\n",
            "  Average training loss: 1.01\n",
            "  Training epoch took: 0:01:26\n",
            "\n",
            "Running Validation...\n",
            "  Validation Loss: 1.16\n",
            "  Validation took: 0:00:03\n",
            "\n",
            "======== Epoch 5 / 5 ========\n",
            "Training...\n"
          ]
        },
        {
          "output_type": "stream",
          "name": "stderr",
          "text": [
            "The attention mask and the pad token id were not set. As a consequence, you may observe unexpected behavior. Please pass your input's `attention_mask` to obtain reliable results.\n",
            "Setting `pad_token_id` to `eos_token_id`:50256 for open-end generation.\n"
          ]
        },
        {
          "output_type": "stream",
          "name": "stdout",
          "text": [
            "  Batch   100  of    137. Loss: 0.8820787072181702.   Elapsed: 0:00:59.\n",
            "0: NytSe sanoo, että pitää ostaa ittelleski isoo trukin piänet pualehet, jos ostaa veljien kans samanmoinen pannu. Ei oo sellaasta löytyny. Kyllä sitä on ittekkin joskus osteltihin. Mulla oli ajatuksena ostaa isoo visseli ja sillä viilahalla, ku se oli nii isoo, ettei ollu oikeen sopiva peli ja ajattelin, että pitää ostaa joku iso pannu, johonki mumma tahtoo puhaltaa. _\n",
            "\n",
            "  Average training loss: 0.88\n",
            "  Training epoch took: 0:01:24\n",
            "\n",
            "Running Validation...\n",
            "  Validation Loss: 1.15\n",
            "  Validation took: 0:00:03\n",
            "\n",
            "Training complete!\n",
            "Total training took 0:07:10 (h:mm:ss)\n"
          ]
        }
      ]
    },
    {
      "cell_type": "markdown",
      "metadata": {
        "id": "VQTvJ1vRP7u4"
      },
      "source": [
        "Let's view the summary of the training process."
      ]
    },
    {
      "cell_type": "code",
      "metadata": {
        "id": "6O_NbXFGMukX"
      },
      "source": [
        "if flag_train_model:\n",
        "  # Display floats with two decimal places.\n",
        "  pd.set_option('precision', 2)\n",
        "\n",
        "  # Create a DataFrame from our training statistics.\n",
        "  df_stats = pd.DataFrame(data=training_stats)\n",
        "\n",
        "  # Use the 'epoch' as the row index.\n",
        "  df_stats = df_stats.set_index('epoch')\n",
        "\n",
        "  # A hack to force the column headers to wrap.\n",
        "  #df = df.style.set_table_styles([dict(selector=\"th\",props=[('max-width', '70px')])])\n",
        "\n",
        "  # Display the table.\n",
        "  df_stats"
      ],
      "execution_count": 55,
      "outputs": []
    },
    {
      "cell_type": "code",
      "metadata": {
        "id": "68xreA9JAmG5",
        "colab": {
          "base_uri": "https://localhost:8080/",
          "height": 427
        },
        "outputId": "48eb6b94-8057-4200-d338-06fa94cbffcd"
      },
      "source": [
        "if flag_train_model:\n",
        "  # Use plot styling from seaborn.\n",
        "  sns.set(style='darkgrid')\n",
        "\n",
        "  # Increase the plot size and font size.\n",
        "  sns.set(font_scale=1.5)\n",
        "  plt.rcParams[\"figure.figsize\"] = (12,6)\n",
        "\n",
        "  # Plot the learning curve.\n",
        "  plt.plot(df_stats['Training Loss'], 'b-o', label=\"Training\")\n",
        "  plt.plot(df_stats['Valid. Loss'], 'g-o', label=\"Validation\")\n",
        "\n",
        "  # Label the plot.\n",
        "  plt.title(\"Training & Validation Loss\")\n",
        "  plt.xlabel(\"Epoch\")\n",
        "  plt.ylabel(\"Loss\")\n",
        "  plt.legend()\n",
        "  plt.xticks([1, 2, 3, 4])\n",
        "\n",
        "  plt.show()"
      ],
      "execution_count": 56,
      "outputs": [
        {
          "output_type": "display_data",
          "data": {
            "text/plain": [
              "<Figure size 864x432 with 1 Axes>"
            ],
            "image/png": "[encoded data removed]"
          },
          "metadata": {}
        }
      ]
    },
    {
      "cell_type": "markdown",
      "metadata": {
        "id": "GfjYoa6WmkN6"
      },
      "source": [
        "# Display Model Info"
      ]
    },
    {
      "cell_type": "code",
      "metadata": {
        "id": "8PIiVlDYCtSq",
        "colab": {
          "base_uri": "https://localhost:8080/"
        },
        "outputId": "586cff8c-4f75-4429-b74b-4370671dd6db"
      },
      "source": [
        "if flag_train_model:\n",
        "  # Get all of the model's parameters as a list of tuples.\n",
        "  params = list(model.named_parameters())\n",
        "\n",
        "  print('The GPT-2 model has {:} different named parameters.\\n'.format(len(params)))\n",
        "\n",
        "  print('==== Embedding Layer ====\\n')\n",
        "\n",
        "  for p in params[0:2]:\n",
        "      print(\"{:<55} {:>12}\".format(p[0], str(tuple(p[1].size()))))\n",
        "\n",
        "  print('\\n==== First Transformer ====\\n')\n",
        "\n",
        "  for p in params[2:14]:\n",
        "      print(\"{:<55} {:>12}\".format(p[0], str(tuple(p[1].size()))))\n",
        "\n",
        "  print('\\n==== Output Layer ====\\n')\n",
        "\n",
        "  for p in params[-2:]:\n",
        "      print(\"{:<55} {:>12}\".format(p[0], str(tuple(p[1].size()))))"
      ],
      "execution_count": 57,
      "outputs": [
        {
          "output_type": "stream",
          "name": "stdout",
          "text": [
            "The GPT-2 model has 148 different named parameters.\n",
            "\n",
            "==== Embedding Layer ====\n",
            "\n",
            "transformer.wte.weight                                  (50259, 768)\n",
            "transformer.wpe.weight                                   (1024, 768)\n",
            "\n",
            "==== First Transformer ====\n",
            "\n",
            "transformer.h.0.ln_1.weight                                   (768,)\n",
            "transformer.h.0.ln_1.bias                                     (768,)\n",
            "transformer.h.0.attn.c_attn.weight                       (768, 2304)\n",
            "transformer.h.0.attn.c_attn.bias                             (2304,)\n",
            "transformer.h.0.attn.c_proj.weight                        (768, 768)\n",
            "transformer.h.0.attn.c_proj.bias                              (768,)\n",
            "transformer.h.0.ln_2.weight                                   (768,)\n",
            "transformer.h.0.ln_2.bias                                     (768,)\n",
            "transformer.h.0.mlp.c_fc.weight                          (768, 3072)\n",
            "transformer.h.0.mlp.c_fc.bias                                (3072,)\n",
            "transformer.h.0.mlp.c_proj.weight                        (3072, 768)\n",
            "transformer.h.0.mlp.c_proj.bias                               (768,)\n",
            "\n",
            "==== Output Layer ====\n",
            "\n",
            "transformer.ln_f.weight                                       (768,)\n",
            "transformer.ln_f.bias                                         (768,)\n"
          ]
        }
      ]
    },
    {
      "cell_type": "markdown",
      "metadata": {
        "id": "q2079Qyn8Mt8"
      },
      "source": [
        "# Saving & Loading Fine-Tuned Model\n"
      ]
    },
    {
      "cell_type": "code",
      "metadata": {
        "id": "6ulTWaOr8QNY",
        "colab": {
          "base_uri": "https://localhost:8080/"
        },
        "outputId": "ba28fab0-7ce7-4a56-b6f6-ea143dd284b7"
      },
      "source": [
        "# Saving best-practices: if you use defaults names for the model, you can reload it using from_pretrained()\n",
        "\n",
        "output_dir = './model_save/'\n",
        "if flag_train_model:\n",
        "\n",
        "  # Create output directory if needed\n",
        "  if not os.path.exists(output_dir):\n",
        "      os.makedirs(output_dir)\n",
        "\n",
        "  print(\"Saving model to %s\" % output_dir)\n",
        "\n",
        "  # Save a trained model, configuration and tokenizer using `save_pretrained()`.\n",
        "  # They can then be reloaded using `from_pretrained()`\n",
        "  model_to_save = model.module if hasattr(model, 'module') else model  # Take care of distributed/parallel training\n",
        "  model_to_save.save_pretrained(output_dir)\n",
        "  tokenizer.save_pretrained(output_dir)\n",
        "\n",
        "  # Good practice: save your training arguments together with the trained model\n",
        "  # torch.save(args, os.path.join(output_dir, 'training_args.bin'))\n"
      ],
      "execution_count": 58,
      "outputs": [
        {
          "output_type": "stream",
          "name": "stdout",
          "text": [
            "Saving model to ./model_save/\n"
          ]
        }
      ]
    },
    {
      "cell_type": "code",
      "metadata": {
        "id": "mqMzI3VTCZo5",
        "colab": {
          "base_uri": "https://localhost:8080/"
        },
        "outputId": "e88e7ecf-ee30-4f77-d793-0df2d119c353"
      },
      "source": [
        "!ls -l --block-size=K ./model_save/"
      ],
      "execution_count": 59,
      "outputs": [
        {
          "output_type": "stream",
          "name": "stdout",
          "text": [
            "total 500036K\n",
            "-rw------- 1 root root      1K Nov 19 17:57 added_tokens.json\n",
            "-rw------- 1 root root      1K Nov 19 17:57 config.json\n",
            "-rw------- 1 root root    520K Nov 19 17:57 merges.txt\n",
            "-rw------- 1 root root 498441K Nov 19 17:57 pytorch_model.bin\n",
            "-rw------- 1 root root      1K Nov 19 17:57 special_tokens_map.json\n",
            "-rw------- 1 root root      1K Nov 19 17:57 tokenizer_config.json\n",
            "-rw------- 1 root root   1050K Nov 19 17:57 vocab.json\n"
          ]
        }
      ]
    },
    {
      "cell_type": "code",
      "metadata": {
        "id": "-WUFUIQ8Cu8D",
        "colab": {
          "base_uri": "https://localhost:8080/"
        },
        "outputId": "f3ac6dc1-e6d0-4396-adc7-a1b8030598fd"
      },
      "source": [
        "!ls -l --block-size=M ./model_save/pytorch_model.bin"
      ],
      "execution_count": 60,
      "outputs": [
        {
          "output_type": "stream",
          "name": "stdout",
          "text": [
            "-rw------- 1 root root 487M Nov 19 17:57 ./model_save/pytorch_model.bin\n"
          ]
        }
      ]
    },
    {
      "cell_type": "code",
      "source": [
        "!ls $data_dir/model_save"
      ],
      "metadata": {
        "colab": {
          "base_uri": "https://localhost:8080/"
        },
        "id": "StfxHfIIiMJs",
        "outputId": "ef14f84d-633c-4d84-c10b-15fd184db71b"
      },
      "execution_count": 61,
      "outputs": [
        {
          "output_type": "stream",
          "name": "stdout",
          "text": [
            "added_tokens.json  merges.txt\t      special_tokens_map.json  vocab.json\n",
            "config.json\t   pytorch_model.bin  tokenizer_config.json\n"
          ]
        }
      ]
    },
    {
      "cell_type": "code",
      "metadata": {
        "id": "NxlZsafTC-V5"
      },
      "source": [
        "if flag_train_model:\n",
        "  # Copy the model files to a directory in your Google Drive.\n",
        "  !cp -r ./model_save/ $data_dir\n",
        "else:\n",
        "  # # Load a trained model and vocabulary that you have fine-tuned\n",
        "  !cp -r $data_dir/model_save .\n",
        "  model = GPT2LMHeadModel.from_pretrained(output_dir)\n",
        "  tokenizer = GPT2Tokenizer.from_pretrained(output_dir)\n",
        "  model.to(device)"
      ],
      "execution_count": 62,
      "outputs": []
    },
    {
      "cell_type": "markdown",
      "metadata": {
        "id": "ZLf6rbRglYhQ"
      },
      "source": [
        "# Generate Text"
      ]
    },
    {
      "cell_type": "code",
      "metadata": {
        "id": "v4XhewaV93-_",
        "colab": {
          "base_uri": "https://localhost:8080/"
        },
        "outputId": "540f3c5b-f339-4b78-b1e2-4368850b2479"
      },
      "source": [
        "def run_model(model, tokenizer, prompt):\n",
        "  model.eval()\n",
        "\n",
        "  prompt = \"<|startoftext|> \" + prompt\n",
        "\n",
        "  generated = torch.tensor(tokenizer.encode(prompt)).unsqueeze(0)\n",
        "  generated = generated.to(device)\n",
        "\n",
        "  print(generated)\n",
        "\n",
        "  sample_outputs = model.generate(\n",
        "                                  generated, \n",
        "                                  #bos_token_id=random.randint(1,30000),\n",
        "                                  do_sample=True,   \n",
        "                                  top_k=50, \n",
        "                                  max_length = 300,\n",
        "                                  top_p=0.9, \n",
        "                                  num_return_sequences=10\n",
        "                                  )\n",
        "\n",
        "  for i, sample_output in enumerate(sample_outputs):\n",
        "    print(\"{}: {}\\n\\n\".format(i, tokenizer.decode(sample_output, skip_special_tokens=True)))\n",
        "\n",
        "run_model(model, tokenizer, \"Hiano ilima! Lähretähän ulokoolemaha.\")"
      ],
      "execution_count": 63,
      "outputs": [
        {
          "output_type": "stream",
          "name": "stderr",
          "text": [
            "The attention mask and the pad token id were not set. As a consequence, you may observe unexpected behavior. Please pass your input's `attention_mask` to obtain reliable results.\n",
            "Setting `pad_token_id` to `eos_token_id`:50256 for open-end generation.\n"
          ]
        },
        {
          "output_type": "stream",
          "name": "stdout",
          "text": [
            "tensor([[50257,   397,   660,    83,   544,  4098,     5,  2294, 39709,   891,\n",
            "           859, 43442,  5894, 31193,    18]], device='cuda:0')\n",
            "0:  Hiano ilima! Lähretähän ulokoolemaha. Koetahan kumminki vähä tihkusateen päälle, vaikka tuskin on lämpöä. Kuivien puales söitte viäläkin suklaata, moon aina tykänny siitä, ku siältä on tullu tuanu, ku pakkas on viälä tupaa. No, kumminki on jo usiempana päivänä ollu sellaanen tilanne, notta suklaata ei ookaa enää palio.. Niin, suklaata kuluu melekeen palio, ettei se kauaakaa kestää. Silakkaa on kyllä niin palio, ettei sitä oikeen pystyny enää raakkaamahan. Mutta suklaata kuluu niin palio, ettei se kauaakaa kestä. \n",
            "\n",
            "\n",
            "1:  Hiano ilima! Lähretähän ulokoolemaha. Soon sellaanen juttu, että kannattaa ostaa sellaanen vahava vahava vaha. Meistä ei oo kumminkaa sitä laastaretta joutunu sen takia ostelemhan. Ku oot koittanu vahata, ni tee vahataki vähä vahava vahava vahava vaha. \n",
            "\n",
            "\n",
            "2:  Hiano ilima! Lähretähän ulokoolemaha. Kualahan viälä piänet tuloo tasaaset pakarat ja takapäät kiärtää jo kympillä. Äitee sanoo, notta  ����_�_������������_��_\n",
            "\n",
            "\n",
            "3:  Hiano ilima! Lähretähän ulokoolemaha. Kotoa tulles on kaks pakettia. Molimma jo väsyksis ja uuret vaattehet oli sellaaset, että niistä ei sais eres olla eres meirän vaattehia. Eritehet oli niin ilimaases ja eres meirän vaattehet, että ei viälä tarvinnu raahautua kotoota. Jokahisella meistä oli sellaaset justihin vissihin asti kuivat vaatteet päällä ja sellaaset pikkupömpöt kaulas. Niin ja olihan se hyvä, notta jaksaa viättää monta päivää kuivia vaattehia märkinä. Nukahtaminen saattaa tua viälä tuanki piänes arjen tuskas, jotenka tuskin kerkes nuaruttaa koko autoa.. \n",
            "\n",
            "\n",
            "4:  Hiano ilima! Lähretähän ulokoolemaha. �\n",
            "\n",
            "\n",
            "5:  Hiano ilima! Lähretähän ulokoolemaha. Seisoomma tasamaalla ja lähärettihin isännän kans pihalle lenkille. Kun isä kerkes sanoo, että meirän koira oli kyllä ilamanen, niin mä sitte jäin auton alle ja sitte suuntasin häntä peräs pihalle. Isä kerkes sanoa, että ”����\n",
            "\n",
            "\n",
            "6:  Hiano ilima! Lähretähän ulokoolemaha. Sateinen lauantai on aina hyvä päivä, varsinkin kun saa olla kotona viälä. Seisoothan omalla risukipalla ja keräät itsellesi keltaaset viälä kasan lehtiä. Sitte viälä meethän taas askarteluhoommahan. Tulkaahan ny kattomahan ja tehtihin askarteluhautoja. Ne on niin ikään tosi hyyjäväsiä askarteluhommia, ku voi teherä ittekkin.. \n",
            "\n",
            "\n",
            "7:  Hiano ilima! Lähretähän ulokoolemaha. Siältä se näkyy taivahallansa ja niin äiteeki, joka sen näki, niin ei sekää auttanu, ku se vaan huanotti. Me yritämmä sitä silittää, mutta se vain pomppii mun nenusta sen yli ja hyppii mun yli ja minä huurin ja huurin, ku se kontti meni rikki ja minä huurin sille, että moon mä sillä lailla kurkottamas. Me yritämmä kans leikkiä niillä eres, mutta ei ne oikeen sovi siihen kuvioon. Se sanoo, notta ”��\n",
            "\n",
            "\n",
            "8:  Hiano ilima! Lähretähän ulokoolemaha. Nukutahan yhyren kömmärin päälle, niin saat rairuakut ja akselit ojennettua. No, ei ne kauaa tarvinnu, ku isäntä laittoo kaukosäätimen ja minä jäin taas isännän kans tupahan, ku rupiaa syämähän ja viuhtoo. Aiva helevettihin, kun isäntä havahtuu, että voi kuinka se isäntä oikeen kerkes tulla. No, sitte ku emäntä havahtuu, niin isäntä hommas meille paksun annoksen kaurapuuroos, notta tämä on nyt sitte tenavien juttu. Kustulle se oli kyllä ihan tavallista, mutta niin se vaan oli, ku sen piänehen taloon asuttihin. \n",
            "\n",
            "\n",
            "9:  Hiano ilima! Lähretähän ulokoolemaha. Aiva ulukomailla asuuvana äiteen kans. Meille on tullu joulusauna, jota lämmittämäs isoo lauma lapsia. Saunasta tuli niin miälianen elämys, et en mä muista siitä mitää. Pekan perhees asuu tällä hetkellä kaks koira- ja kaksi kissanpoikaa. Sauna oli niin kutsuvas ja se herätti mun sisuskalut. Pestyä ammoota kiärtihin kiärtähän ja tuahotihin saunan taa. Pestyä ammoosta tultihin siältä, ku sinne oli isoo lauma lapsia. Sauna oli tosi rakas paikka ja siihen kuuluu niin suuri intohimo ku piänet ja imes ne tenavat. Soli kumminki niin rakas paikka, että sitä kutsuttihin mun isännäksi. \n",
            "\n",
            "\n"
          ]
        }
      ]
    },
    {
      "cell_type": "markdown",
      "source": [
        "To illustrate whether the fine tuned model improved the dialect, run the original non-adapted model for comparison. First load the original model."
      ],
      "metadata": {
        "id": "pT26_gK26Lz0"
      }
    },
    {
      "cell_type": "code",
      "metadata": {
        "colab": {
          "base_uri": "https://localhost:8080/"
        },
        "id": "-EfPFjL5myXl",
        "outputId": "672edd6e-5955-44c6-fb77-f1654ea95ef3"
      },
      "source": [
        "# Load the GPT tokenizer.\n",
        "\n",
        "if flag_run_orig_model:\n",
        "  tokenizer_orig = GPT2Tokenizer.from_pretrained(model_name, bos_token='<|startoftext|>', eos_token='<|endoftext|>', pad_token='<|pad|>') #gpt2-medium\n"
      ],
      "execution_count": 64,
      "outputs": [
        {
          "output_type": "stream",
          "name": "stderr",
          "text": [
            "Special tokens have been added in the vocabulary, make sure the associated word embeddings are fine-tuned or trained.\n"
          ]
        }
      ]
    },
    {
      "cell_type": "code",
      "metadata": {
        "id": "9p342QDcmkMi"
      },
      "source": [
        "if flag_run_orig_model:\n",
        "  model_orig=configure_model(model_name, tokenizer_orig)"
      ],
      "execution_count": 65,
      "outputs": []
    },
    {
      "cell_type": "markdown",
      "source": [
        "Then run the original model."
      ],
      "metadata": {
        "id": "fvAdwbmz9RZZ"
      }
    },
    {
      "cell_type": "code",
      "metadata": {
        "colab": {
          "base_uri": "https://localhost:8080/"
        },
        "outputId": "3fcf754c-9a40-4ae7-dc51-a16eb37a4efa",
        "id": "e0DWKtforAa9"
      },
      "source": [
        "run_model(model_orig, tokenizer_orig, \"Hiano ilima! Lähretähän ulokoolemaha.\")"
      ],
      "execution_count": 66,
      "outputs": [
        {
          "output_type": "stream",
          "name": "stderr",
          "text": [
            "The attention mask and the pad token id were not set. As a consequence, you may observe unexpected behavior. Please pass your input's `attention_mask` to obtain reliable results.\n",
            "Setting `pad_token_id` to `eos_token_id`:50256 for open-end generation.\n"
          ]
        },
        {
          "output_type": "stream",
          "name": "stdout",
          "text": [
            "tensor([[50257,   397,   660,    83,   544,  4098,     5,  2294, 39709,   891,\n",
            "           859, 43442,  5894, 31193,    18]], device='cuda:0')\n",
            "0:  Hiano ilima! Lähretähän ulokoolemaha. Sielhä se on ollu. Linnut kaikonneet? Vuaks ne? Ai niin, nyt on sitte tuo kokkokin. Nyt on nuo jiäki, tiijjäkkö. Pyäriäkkö? Mie oon, tiiätkö? Se on miun oma ja hänen oma. Se kuuluu niin. En mää oo sellane.. Minä sanoin. Minä oon sellane. Kyllä, kyllä, kyllä, kyllä. Se kuuluu mun omaan juttuun ja on mun oma. Mie sanon sen aina kaikille.. Minä sanon, että mää annan sille.. Minä sanon, että minä voin antaa sille.. Minun täytyy antaa sille... Mie sanon, että se kuuluu sen omaan juttuun.. Minä sanon, että jos mie annan sille sen, niin se on kyllä mun oma juttu.. Mie sanon, että annan sille sen.. Mie sanon, että se kuuluu minun omaan juttuun ja on mun oma juttu. Se kuuluu minun omaan juttuun ja on mun oma. Mie sanon, että minä voin antaa sille sen.. Mie sanon, että minä voin antaa sille sen.. Mie sanon, että minä voin antaa sille sen.. Mie sanon, että minä voin antaa sille sen.. Mie sanon, että se kuuluu minun omaan juttuun ja on mun oma juttu. Mie sanon, että jos mie annan sille sen, niin se on kyllä mun oma juttu. Mie sanon, että kyllä, kyllä, kyllä, kyllä,\n",
            "\n",
            "\n",
            "1:  Hiano ilima! Lähretähän ulokoolemaha. Ja sitte, ku se on syöty, sen voi siirtää toiseen paikkaan. Ja se meneekin siihen paikkaan, kun se saa sen syödäkseen. Ja kun se syö sen, se syö sen. Sen ei tarvi olla mikään super-syöjä, mutta kyllä se välillä pitää sitä nälässä. Mä en ole ikinä antanut itselleni lupaa syödä herkkuja, kun ei ole ollut mahdollisuutta. Aina ne on jotain keksineitä. On pakko. Joskus on pakko ja välillä on pakko. Mutta mä en ole koskaan antanut itselleni lupaa syödä herkkuja, kun on ollut mahdollisuus. En ole myöskään antanut mitään. Oon syönyt ihan miten haluan, eikä siihen ole vaikuttanut se, että haluaisin syödä suklaata. Se on kuitenkin ollut tosi helppoa. Mä tykkään suklaasta tosi paljon. Oon syöny sitä ihan koko elämäni ja se on tosi hyvää. Ja oon saanu siitä paljon voimaa ja voimaa elämään. Se on aina ollut mun suosikki. Se on tosi paljon kevyempi kuin muut. Mä en ole ikinä ollut mikään maailman kiltein ihminen, vaan olen aina ollut hoikka. Mutta se on mun vahvuus ja se on myös mun heikkous. Ja se on myös mulle aika suuri heikkous. Se on todella heikko ja mulla on tosi heikot hampaat. Mä en pysty keskittymään mihinkään muuhun kuin siihen yhteen asiaan kerrallaan. Se ei ole mulle koskaan ollut mikään kovin hyvä asia. Mutta mä pidän sitä tärkeänä. Ja mä en koe, että mun pitäisi koskaan olla mikään super-syöjä. Mutta mä haluan niin kovasti kehittyä ja päästä taas\n",
            "\n",
            "\n",
            "2:  Hiano ilima! Lähretähän ulokoolemaha. OonaHii, onkos Hiano ollu niin suosittu että sitä on tullu joka ikiseen kauppaan? Hiano on ollu tosi suosittu kun on sen jälkee menny vähä joka paikkaan ja ei oo ollu yhtään sen isompaa ongelmaa, mut se on tosi iso ja vaikee nostaa pois sieltä, ni ei saa kunnolla edes purtua. Jos on niin iso, ni sit pitää ottaa pois. Ei tuu purettua, jos on liian iso. OonaHii!Hiano, että olet löytänyt sellaisen kaupan mistä voit ostaa hianon! Kannattaa katsoa jos on vielä myynnissä! :) OonaHii!OonaHii, se on totta. Itse ostan sieltä kun sinne menee rahaa! :) Nyt Hiao:sta ja sen vaatteista, niin siellä myydään vaatteita! :) OonaHii!Voi että, ihan mahtavaa, kun olet löytänyt oikean kauppaketjun. OonaHii! OonaHii! OonaHii, minäkin haluan sen. :P OonaHii, olet kyllä huippu, OonaHii. OonaHii, OonaHii! OonaHii, OonaHii. Ja OonaHii, OonaHii. On se mahtava kauppa, OonaHii! Ja tosiaan, OonaHii, OonaHii. OonaHii, OonaHii, OonaHii, OonaHii, OonaH\n",
            "\n",
            "\n",
            "3:  Hiano ilima! Lähretähän ulokoolemaha. Minäpä laitan tähän vielä kuvia itsestäni: Jekku. Minä! Jekku. Minä! Jekku. Minä. Jekku. Minä. Jekku. Minä. Jekku. Minä. Minä. Jekku. Minä. Jekku. Minä. Jekku. Minä. Jekku. Minä. Jekku. Minä. Jekku. Minä. Jekku. Minä. Jekku. Minä. Jekku. Minä. Jekku. Minä. Jekku. Minä. Jekku. Minä. Jekku. Minä. Jekku. Minä. Jekku. Minä. Jekku. Minä. Jekku. Minä. Jekku. Minä. Jekku. Minä. Jekku. Minä. Jekku. Minä. Jekku. Minä. Jekku. Minä. Jekku. Minä. Jekku. Minä. Jekku. Minä. Jekku. Minä. Jekku. Minä. Jekku. Minä. Jekku. Minä. Jekku. Minä. Jekku. Minä. Jekku. Minä. Jekku. Minä. Jekku. Minä. Jekku. Minä. Jekku. Minä. Jekku. Minä. Jekku. Minä. Jekku. Minä\n",
            "\n",
            "\n",
            "4:  Hiano ilima! Lähretähän ulokoolemaha. Reenaa, ulukoolo, ilima, ilima, ulukoolo, ulukoolo! Pönttöön, ulukoolo, ilima. Ja, jotta, iliman. Oes oes vaekka! Ja jotta. Reenaa, ulukoolo, ilima, ilima, ilima, ulukoolo, ilima, ilima, ulukoolo. Pönttöön, ulukoolo, ilima, ulukoolo. Soli ilima. Pönttöön, ulukoolo, ilima, ilima, ulukoolo. Reenaa, ulukoolo, ilima, ilima, ulukoolo. Ja, jotta, ilima, ulukoolo, ilima, ulukoolo, ilima, ulukoolo. Pönttöön, ulukoolo, ilima, ulukoolo, ilima, ulukoolo, ilima, ulukoolo. Ja, jotta, ilima, ulukoolo, ilima, ulukoolo. Pönttöön, ulukoolo, ilima, ulukoolo, ilima, ulukoolo, ulukoolo. Pönttöön, ulukoolo, ilima, ulukoolo. Pönttöön, ulukoolo, ilima, ulukoolo, ulukoolo. Pönttöön, ulukoolo,\n",
            "\n",
            "\n",
            "5:  Hiano ilima! Lähretähän ulokoolemaha. Siellä on taas niin hyvää! Täälläkin on ollut tosi huono viikko. Eilen oli koko päivän ja tänäänkin on koko päivä. On tämä elämä niin kivaa, kun saa olla töissä. On niin ihanaa, kun saa olla vaan kotona. Se on niin parasta. Tänään tuli postissa, että on päässyt mökille nauttimaan. Ja huomenna saa lähteä maalle saunomaan, kun ei enää tule lämmintä vettä. Niin ihanaa. Toivottavasti tulee jo pian!.Tunnisteet: herkut, mökillä, mökillä.Nyt on ihana olla! Huomenna täytyy pakata matkalaukku ja lähteä mökille. Nyt on niin ihanaa, kun pääsee mökille. On ihanaa olla kotona ja on ihanaa saada viettää aikaa ystävien kanssa. Olen oppinut taas paljon itsestäni ja itsestäni. On ihanaa kun ei tarvitse lähteä minnekään. On ihanaa tehdä ihan mitä vaan. On ihanaa kun voi tehdä mitä vaan ja olla kotona ihan koko päivän. Kun tietää, että saa olla rauhassa, niin ei tarvitse jännittää. Mutta kun pitää olla omassa rauhassa, niin aina voi nauttia ihan kaikista ja olla kotona. On ihana olla vain kotona. Täällä on ihana käydä uimassa ja saunassa. On ihana kun on lämmin ja aurinkoinen ilma. On ihanaa mennä ulos ja saunoa kun on sisällä. On ihanaa kun saa rentoutua rauhassa ja kun voi tehdä mitä vaan, niin saa tehdä mitä vaan. On ihana käydä mökillä ja tehdä kaikkea ihanaa. On ihanaa kun voi tehdä mitä vain, niin saa tehdä mitä vaan ja olla ihan rauhassa. On ihana, kun voi tehdä mitä vain ja saada aikaan jotakin\n",
            "\n",
            "\n",
            "6:  Hiano ilima! Lähretähän ulokoolemaha. Tuskimpa sulle. On se mukava! Tuskimpa sulle. Tuskimpa sulle. On se mukava! Tuskimpa sulle. On se mukava! Tuskimpa sulle. On se mukava! Tuskimpa sulle. On se mukava! Tuskimpa sulle. On se mukava! Tuskimpa sulle. On se mukava! Tuskimpa sulle. On se mukava! Tuskimpa sulle. On se mukava! Tuskimpa sulle. On se mukava! Tuskimpa sulle. On se mukava! Tuskimpa sulle. On se mukava! Tuskimpa sulle. On se mukava! Tuskimpa sulle. On se mukava! Tuskimpa sulle. On se mukava! Tuskimpa sulle. On se mukava! Tuskimpa sulle. On se mukava! Tuskimpa sinulle. On se mukava! Tuskimpa sinulle. On se mukava! Tuskimpa sinulle. On se mukava! Tuskimpa sinulle. On se mukava! Tuskimpa sinulle. On se mukava! Tuskimpa sinulle. On se mukava! Tuskimpa sinulle. On se mukava! Tuskimpa sinulle. On se mukava! Tuskimpa sinulle. On se mukava! Tuskimpa sinulle. On se mukava! Tuskimpa sinulle. On se mukava\n",
            "\n",
            "\n",
            "7:  Hiano ilima! Lähretähän ulokoolemaha. Nyt kyllä pitää päästä jo kotiin. Olen ollut nyt viikon poissa töistä, ja kylläpäs on ollut raskasta. Eilen en voinut kun olla rauhassa kotona ja lähteä, mutta tänään sitten. Olen kyllä kuullut, että täällä on ollut tosi huono ilmasto, en ole ollut kovin mukava ihminen kun olen ollut koko päivän töissä. Nyt kun olen kotona niin pitää lähteä ulos nauttimaan ja nauttimaan. Niin ja sitten vielä tänään, että saan mennä yksin uimaan, mutta se sitten onkin jo ihan toinen juttu, sillä tänään on kuitenkin tosi lämmin päivä ja aion mennä taas sinne. Huomenna sitten taas. Jos teillä muilla menee hyvin, niin mikä tahansa aika ja paikka siellä voisi olla parempi? Ja se, että miksi ihmiset menevät nyt töihin niin huonosti? Mikä heitä oikein vaivaa? Mitä tehdä kun on niin paljon töitä ja on niin tylsää? Ei ole kiva mennä aamulla töihin ja mennä illalla kotiin. On niin väsyttävää, että tekisi mieli lähteä vaikka heti. Ei ole kivaa, kun on niin väsynyt ja kaikki ahdistaa. Miksi sitten menin töihin ja menin nukkumaan? En ollut kauhean hyvä nukkuja ja menin sitten aikaisin nukkumaan ja nukkumaan. Menin sitten illalla kotiin ja menin taas nukkumaan ja menin sitten taas nukkumaan. Ihan kivaa oli, mutta huomenna pitäisi sitten lähteä taas mökille. Ja sitten huomenna pitää lähteä taas töihin ja mennä kotiin. Onko joku muu samaa mieltä? Olen aina vähän huolissani tästä meidän perheestäni, kun on niin huono elämä täällä. Ihan kauheaa kun ei voi enää elää niin pitkään! Nyt sitten yritän\n",
            "\n",
            "\n",
            "8:  Hiano ilima! Lähretähän ulokoolemaha. Syön hyvin, ja vatsakin on kunnossa. Hiao on kyllä jo nyt niin täynnä ettei ole mitään hätää. Hiao ei ole ikinä ollut paha, mutta sen verran ärsyttävä, että pitää syödä paljon ja vähän. Ja en syö mitään herkkuja. Joten miksi tämä on niin vaikeaa? Minä syön ja se on hyvää. Onko jotain pakko syödä tai jos syö enemmän niin ei syö. Eli kertokaa, mistä saa ruokaa ja mitä voi syödä? Mitä voi laittaa ja mitä ei. Kiitos!on kyllä totta että vatsalaukku on todella löysällä! itse olen kärsinyt mahakivuista jo pari kuukautta. itselläni on ihan sama tilanne kun sulla, mutta olen myös kuullut että vatsalaukku on jumissa ja on myös erittäin ärsyttävää syödä mitään herkkuja, vaikka kyllä se siitä menee ohi. mutta olen myös kuullut että vatsalaukun toiminta häiriintyy jos syön vain yhden kerran päivässä, enkä syö mitään herkkuja tai herkkuja. siis mitä pitää syödä? eli siis ihan oikeesti mistä saa sitä ruokaa? en muista koska olisin viimeksi ollut niin kipeä. ja onko teillä ollut sellaista ongelmaa että esim. kun syö jotain ja ruoka on huonoa ja syö sitten jotain niin vatsa ei reagoi mitenkään? eli jos kerran syö paljon niin ei reagoi mitenkään? jos ei ole nälkä niin sitten ei reagoi mitenkään. ja myös jos ei syö tarpeeksi niin se ei reagoi mitenkään. eli vaikka söis monta kertaa päivässä niin vatsa ei reagoi mitenkään, sitten taas kun syö tarpeeksi ei reagoi ollenkaan. mutta jos syö jotain muuta ja\n",
            "\n",
            "\n",
            "9:  Hiano ilima! Lähretähän ulokoolemaha. Sooda ei pala pohjaan! Ja mitä se maksaa? Ei kai kukaan osta sellaista? Jos ei, niin mitä se maksaa? Ja sitten, mistä löytyy se oikea varaosa? Ja mistä sen löytäisi ja milloin ja missä paikassa? Kiitti jo etukäteen vastanneille!se on ihan sitä samaa kun mä oon sitä mieltä että kyllä ne on aina valmiita maksamaan siitä hyvästä että on varaosia. Ja että varaosat on laadukkaita. Ei ne voi olla jotain ylihinnoiteltuja, jos ne vaan pitää hankkia. Mutta kyllä niitä on ja varaosat voi aina hankkia sieltä, jos on tarve. Mutta sitten ne on sellaisia, että ne pitää ostaa jostain muualta, eikä siitä, että on kallista maksaa jostakin muusta. Mutta ei se haittaa, koska mä ainakin sain ainakin sen verran, ettei tarvinnut mistään muualta ostaa kuin sieltä mistä oli tarve. Ja en mä sitä vaan sitä, että kun ne on ihan halpoja. Ne on kalliimpia kuin mitä niitä on tarjolla. Ja koska ne on kalliimpia, on ne kalliimpia. Joo mä oon kyllä samaa mieltä että kyllä se on aina parempi että se varaosa tulee sieltä. Mutta ei se haittaa, koska ne on vaan halpoja, eikä niiden tarvitse olla kalliita. Mutta on olemassa joku halpa huoltofirma, joka on hinnoitellut ne siihen kuntoon että ne on siellä, että niillä on helppo ja halpa ostaa, kun ne on halvempia kuin esim. merkkiliikeissä. Ja koska nämä on halpoja, ja niin kuin sanoin, ei ne välttämättä ole halpoja, ja jos\n",
            "\n",
            "\n"
          ]
        }
      ]
    }
  ]
}